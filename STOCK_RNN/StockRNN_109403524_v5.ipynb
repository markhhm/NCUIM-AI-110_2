{
  "nbformat": 4,
  "nbformat_minor": 0,
  "metadata": {
    "colab": {
      "name": "StockRNN-109403524_v5.ipynb",
      "provenance": [],
      "collapsed_sections": []
    },
    "kernelspec": {
      "name": "python3",
      "display_name": "Python 3"
    },
    "accelerator": "GPU"
  },
  "cells": [
    {
      "cell_type": "markdown",
      "metadata": {
        "id": "iRAa8Hh-d4F3"
      },
      "source": [
        "![](https://i.imgur.com/3twMqGw.png)\n",
        "\n",
        "# 作業2 : 股票預測\n",
        "\n",
        "## **請挑選一家公司來做預測**\n",
        "\n",
        "資料集: [鉅亨網](https://www.cnyes.com/)\n",
        "\n",
        "> **資料集說明**\n",
        "\n",
        "別人恐懼我貪婪，一張不賣奇蹟來。\n",
        "\n",
        ">**作業說明**\n",
        "\n",
        "**第一步驟**: 左上角 檔案->在雲端硬碟建立副本。\n",
        "\n",
        "**第二步驟**: 右上角 共用->取得連結->任何知道這個連結的人都能編輯\n",
        "\n",
        "**第三步驟**: 左上角 執行階段->更變執行類型->GPU。 可以加快模型速度\n",
        "\n",
        "**第四步驟**: 檔案名稱，請填寫你的學號，把副本上下引號刪掉\n",
        "\n",
        "請 **隨意修改** 這個colab的程式來完成訓練RNN模型。**不必一定要照著todo提示走。**\n",
        "繳交時記得改檔案標題的學號。\n",
        "\n",
        "這次作業的重點在於RNN的維度問題。\n",
        "\n",
        "> **作業限制**\n",
        "\n",
        "1. 不要動資料集、不要在訓練時偷看test data\n",
        "2. 模型請手刻、手疊，**不要用Transfer Learning**，你可以手刻transformer。\n",
        "3. **不要抄襲**\n",
        "\n",
        "> **作業繳交**\n",
        "\n",
        "1. 完成訓練後保存output結果，更改**檔名學號**，左上角 檔案->下載 成ipynb檔。\n",
        "2. 交一個**pdf**檔，裡面需要附上**你的作業colab連結(設為可編輯、所有人觀看)**、姓名學號年級、過程和執行結果的截圖，並說明你程式撰寫的過程、本次作業心得(字數不限)。\n",
        "3. 上述三個檔案繳交至ee-class。(Text Generation、Stock、PDF)\n",
        "\n",
        "> **繳交期限**\n",
        "\n",
        "1. 電子商務技術(IM5002): 期限至2021/5/16(一) 23:59分\n",
        "2. 人工智慧與機器學習(IM3078): 期限至2022/5/16(一) 23:59分\n",
        "3. 電子商務智慧技術(IMA0200): 期限至2022/5/14(六) 23:59分\n",
        "\n",
        "> **算分標準**\n",
        "\n",
        "Text Generation(20) + Stock RNN(30) + Predict function(20分) + 30分文件\n",
        "1.  [Text Generation](https://colab.research.google.com/drive/1bMkAUaiivMaOr8Sd1Ui-KJeoFImEVUqA?usp=sharing) 換個其他資料集來訓練，完成就20分\n",
        "2. Stock RNN完成模型就30分\n",
        "3. predit function有寫出來就20分(第七段)\n",
        "4. 30分是文件分數\n",
        "5. 記得把以上評分標準截圖、並與你的心得一起貼上pdf\n",
        "\n",
        "有問題再來信助教: chiachentu@g.ncu.edu.tw(凃家甄)、lufor129@g.ncu.edu.tw(黃智輝)\n"
      ]
    },
    {
      "cell_type": "code",
      "metadata": {
        "id": "RURvH0RWNsOQ",
        "colab": {
          "base_uri": "https://localhost:8080/"
        },
        "outputId": "d9bb7f5f-fb1c-4745-eace-a7963ca7e772"
      },
      "source": [
        "# 太多人同時存取可能會報cannot retrieve file error\n",
        "# 點擊you may still be able to access 下面那個連結再自行上傳檔案即可\n",
        "\n",
        "import os\n",
        "\n",
        "if(os.path.isfile(\"./train.csv\") == False or os.path.isfile(\"./test.csv\") == False):\n",
        "  # !wget -O train.csv \"http://140.115.82.54/NN/Recurrent/train.csv\"\n",
        "  # !wget -O test.csv \"http://140.115.82.54/NN/Recurrent/test.csv\"\n",
        "  !gdown --id 1iK40K9oXsmhJGs7XSn7q3I1XuPtsZiSj --output \"./train.csv\"\n",
        "  !gdown --id 1kZIgeeTnzQf6GJGJuqOe9BgkFa8qb7hJ --output \"./test.csv\""
      ],
      "execution_count": 1,
      "outputs": [
        {
          "output_type": "stream",
          "name": "stdout",
          "text": [
            "/usr/local/lib/python3.7/dist-packages/gdown/cli.py:131: FutureWarning: Option `--id` was deprecated in version 4.3.1 and will be removed in 5.0. You don't need to pass it anymore to use a file ID.\n",
            "  category=FutureWarning,\n",
            "Downloading...\n",
            "From: https://drive.google.com/uc?id=1iK40K9oXsmhJGs7XSn7q3I1XuPtsZiSj\n",
            "To: /content/train.csv\n",
            "100% 138k/138k [00:00<00:00, 57.9MB/s]\n",
            "/usr/local/lib/python3.7/dist-packages/gdown/cli.py:131: FutureWarning: Option `--id` was deprecated in version 4.3.1 and will be removed in 5.0. You don't need to pass it anymore to use a file ID.\n",
            "  category=FutureWarning,\n",
            "Downloading...\n",
            "From: https://drive.google.com/uc?id=1kZIgeeTnzQf6GJGJuqOe9BgkFa8qb7hJ\n",
            "To: /content/test.csv\n",
            "100% 2.36k/2.36k [00:00<00:00, 3.83MB/s]\n"
          ]
        }
      ]
    },
    {
      "cell_type": "markdown",
      "metadata": {
        "id": "AopvjZOxYmky"
      },
      "source": [
        "## 1. 讀入Package"
      ]
    },
    {
      "cell_type": "code",
      "metadata": {
        "id": "Z6Z6H5ibOZg0"
      },
      "source": [
        "import tensorflow as tf\n",
        "from tensorflow import keras\n",
        "from tensorflow.keras import layers\n",
        "import numpy as np\n",
        "import matplotlib.pyplot as plt\n",
        "import pandas as pd\n",
        "import os\n",
        "import random\n",
        "import datetime\n",
        "from sklearn.preprocessing import MinMaxScaler"
      ],
      "execution_count": 2,
      "outputs": []
    },
    {
      "cell_type": "markdown",
      "metadata": {
        "id": "1yeQBU3aYqzg"
      },
      "source": [
        "## 2. 取得資料集"
      ]
    },
    {
      "cell_type": "code",
      "metadata": {
        "id": "pF1xYGzJOiQJ",
        "colab": {
          "base_uri": "https://localhost:8080/",
          "height": 225
        },
        "outputId": "ad5074c7-d68e-4497-88d9-b10e336ed27d"
      },
      "source": [
        "train_df = pd.read_csv(\"./train.csv\")\n",
        "train_df = train_df[::-1]\n",
        "print(\"company : \",train_df[\"company\"].unique())\n",
        "train_df.head()"
      ],
      "execution_count": 3,
      "outputs": [
        {
          "output_type": "stream",
          "name": "stdout",
          "text": [
            "company :  [2317 2454 2330]\n"
          ]
        },
        {
          "output_type": "execute_result",
          "data": {
            "text/plain": [
              "      company      date  price\n",
              "6687     2317  2012/1/2   81.4\n",
              "6686     2317  2012/1/3   82.7\n",
              "6685     2317  2012/1/4   83.2\n",
              "6684     2317  2012/1/5   83.2\n",
              "6683     2317  2012/1/6   83.9"
            ],
            "text/html": [
              "\n",
              "  <div id=\"df-2831cc72-3697-4538-8088-86829e299849\">\n",
              "    <div class=\"colab-df-container\">\n",
              "      <div>\n",
              "<style scoped>\n",
              "    .dataframe tbody tr th:only-of-type {\n",
              "        vertical-align: middle;\n",
              "    }\n",
              "\n",
              "    .dataframe tbody tr th {\n",
              "        vertical-align: top;\n",
              "    }\n",
              "\n",
              "    .dataframe thead th {\n",
              "        text-align: right;\n",
              "    }\n",
              "</style>\n",
              "<table border=\"1\" class=\"dataframe\">\n",
              "  <thead>\n",
              "    <tr style=\"text-align: right;\">\n",
              "      <th></th>\n",
              "      <th>company</th>\n",
              "      <th>date</th>\n",
              "      <th>price</th>\n",
              "    </tr>\n",
              "  </thead>\n",
              "  <tbody>\n",
              "    <tr>\n",
              "      <th>6687</th>\n",
              "      <td>2317</td>\n",
              "      <td>2012/1/2</td>\n",
              "      <td>81.4</td>\n",
              "    </tr>\n",
              "    <tr>\n",
              "      <th>6686</th>\n",
              "      <td>2317</td>\n",
              "      <td>2012/1/3</td>\n",
              "      <td>82.7</td>\n",
              "    </tr>\n",
              "    <tr>\n",
              "      <th>6685</th>\n",
              "      <td>2317</td>\n",
              "      <td>2012/1/4</td>\n",
              "      <td>83.2</td>\n",
              "    </tr>\n",
              "    <tr>\n",
              "      <th>6684</th>\n",
              "      <td>2317</td>\n",
              "      <td>2012/1/5</td>\n",
              "      <td>83.2</td>\n",
              "    </tr>\n",
              "    <tr>\n",
              "      <th>6683</th>\n",
              "      <td>2317</td>\n",
              "      <td>2012/1/6</td>\n",
              "      <td>83.9</td>\n",
              "    </tr>\n",
              "  </tbody>\n",
              "</table>\n",
              "</div>\n",
              "      <button class=\"colab-df-convert\" onclick=\"convertToInteractive('df-2831cc72-3697-4538-8088-86829e299849')\"\n",
              "              title=\"Convert this dataframe to an interactive table.\"\n",
              "              style=\"display:none;\">\n",
              "        \n",
              "  <svg xmlns=\"http://www.w3.org/2000/svg\" height=\"24px\"viewBox=\"0 0 24 24\"\n",
              "       width=\"24px\">\n",
              "    <path d=\"M0 0h24v24H0V0z\" fill=\"none\"/>\n",
              "    <path d=\"M18.56 5.44l.94 2.06.94-2.06 2.06-.94-2.06-.94-.94-2.06-.94 2.06-2.06.94zm-11 1L8.5 8.5l.94-2.06 2.06-.94-2.06-.94L8.5 2.5l-.94 2.06-2.06.94zm10 10l.94 2.06.94-2.06 2.06-.94-2.06-.94-.94-2.06-.94 2.06-2.06.94z\"/><path d=\"M17.41 7.96l-1.37-1.37c-.4-.4-.92-.59-1.43-.59-.52 0-1.04.2-1.43.59L10.3 9.45l-7.72 7.72c-.78.78-.78 2.05 0 2.83L4 21.41c.39.39.9.59 1.41.59.51 0 1.02-.2 1.41-.59l7.78-7.78 2.81-2.81c.8-.78.8-2.07 0-2.86zM5.41 20L4 18.59l7.72-7.72 1.47 1.35L5.41 20z\"/>\n",
              "  </svg>\n",
              "      </button>\n",
              "      \n",
              "  <style>\n",
              "    .colab-df-container {\n",
              "      display:flex;\n",
              "      flex-wrap:wrap;\n",
              "      gap: 12px;\n",
              "    }\n",
              "\n",
              "    .colab-df-convert {\n",
              "      background-color: #E8F0FE;\n",
              "      border: none;\n",
              "      border-radius: 50%;\n",
              "      cursor: pointer;\n",
              "      display: none;\n",
              "      fill: #1967D2;\n",
              "      height: 32px;\n",
              "      padding: 0 0 0 0;\n",
              "      width: 32px;\n",
              "    }\n",
              "\n",
              "    .colab-df-convert:hover {\n",
              "      background-color: #E2EBFA;\n",
              "      box-shadow: 0px 1px 2px rgba(60, 64, 67, 0.3), 0px 1px 3px 1px rgba(60, 64, 67, 0.15);\n",
              "      fill: #174EA6;\n",
              "    }\n",
              "\n",
              "    [theme=dark] .colab-df-convert {\n",
              "      background-color: #3B4455;\n",
              "      fill: #D2E3FC;\n",
              "    }\n",
              "\n",
              "    [theme=dark] .colab-df-convert:hover {\n",
              "      background-color: #434B5C;\n",
              "      box-shadow: 0px 1px 3px 1px rgba(0, 0, 0, 0.15);\n",
              "      filter: drop-shadow(0px 1px 2px rgba(0, 0, 0, 0.3));\n",
              "      fill: #FFFFFF;\n",
              "    }\n",
              "  </style>\n",
              "\n",
              "      <script>\n",
              "        const buttonEl =\n",
              "          document.querySelector('#df-2831cc72-3697-4538-8088-86829e299849 button.colab-df-convert');\n",
              "        buttonEl.style.display =\n",
              "          google.colab.kernel.accessAllowed ? 'block' : 'none';\n",
              "\n",
              "        async function convertToInteractive(key) {\n",
              "          const element = document.querySelector('#df-2831cc72-3697-4538-8088-86829e299849');\n",
              "          const dataTable =\n",
              "            await google.colab.kernel.invokeFunction('convertToInteractive',\n",
              "                                                     [key], {});\n",
              "          if (!dataTable) return;\n",
              "\n",
              "          const docLinkHtml = 'Like what you see? Visit the ' +\n",
              "            '<a target=\"_blank\" href=https://colab.research.google.com/notebooks/data_table.ipynb>data table notebook</a>'\n",
              "            + ' to learn more about interactive tables.';\n",
              "          element.innerHTML = '';\n",
              "          dataTable['output_type'] = 'display_data';\n",
              "          await google.colab.output.renderOutput(dataTable, element);\n",
              "          const docLink = document.createElement('div');\n",
              "          docLink.innerHTML = docLinkHtml;\n",
              "          element.appendChild(docLink);\n",
              "        }\n",
              "      </script>\n",
              "    </div>\n",
              "  </div>\n",
              "  "
            ]
          },
          "metadata": {},
          "execution_count": 3
        }
      ]
    },
    {
      "cell_type": "code",
      "metadata": {
        "colab": {
          "base_uri": "https://localhost:8080/",
          "height": 225
        },
        "id": "gx0PFFHP3O2d",
        "outputId": "931285b4-18a0-4207-9646-565631c49a45"
      },
      "source": [
        "test_df = pd.read_csv(\"./test.csv\")\n",
        "test_df = test_df[::-1]\n",
        "print(\"test data shape : \",test_df.shape)\n",
        "test_df.head()"
      ],
      "execution_count": 4,
      "outputs": [
        {
          "output_type": "stream",
          "name": "stdout",
          "text": [
            "test data shape :  (117, 3)\n"
          ]
        },
        {
          "output_type": "execute_result",
          "data": {
            "text/plain": [
              "     company      date  price\n",
              "116     2317  2021/2/1  113.0\n",
              "115     2317  2021/2/2  116.5\n",
              "114     2317  2021/2/3  116.5\n",
              "113     2317  2021/2/4  114.0\n",
              "112     2317  2021/2/5  113.5"
            ],
            "text/html": [
              "\n",
              "  <div id=\"df-ef3277b1-7bdb-446b-ae84-3ac3c2ecfda6\">\n",
              "    <div class=\"colab-df-container\">\n",
              "      <div>\n",
              "<style scoped>\n",
              "    .dataframe tbody tr th:only-of-type {\n",
              "        vertical-align: middle;\n",
              "    }\n",
              "\n",
              "    .dataframe tbody tr th {\n",
              "        vertical-align: top;\n",
              "    }\n",
              "\n",
              "    .dataframe thead th {\n",
              "        text-align: right;\n",
              "    }\n",
              "</style>\n",
              "<table border=\"1\" class=\"dataframe\">\n",
              "  <thead>\n",
              "    <tr style=\"text-align: right;\">\n",
              "      <th></th>\n",
              "      <th>company</th>\n",
              "      <th>date</th>\n",
              "      <th>price</th>\n",
              "    </tr>\n",
              "  </thead>\n",
              "  <tbody>\n",
              "    <tr>\n",
              "      <th>116</th>\n",
              "      <td>2317</td>\n",
              "      <td>2021/2/1</td>\n",
              "      <td>113.0</td>\n",
              "    </tr>\n",
              "    <tr>\n",
              "      <th>115</th>\n",
              "      <td>2317</td>\n",
              "      <td>2021/2/2</td>\n",
              "      <td>116.5</td>\n",
              "    </tr>\n",
              "    <tr>\n",
              "      <th>114</th>\n",
              "      <td>2317</td>\n",
              "      <td>2021/2/3</td>\n",
              "      <td>116.5</td>\n",
              "    </tr>\n",
              "    <tr>\n",
              "      <th>113</th>\n",
              "      <td>2317</td>\n",
              "      <td>2021/2/4</td>\n",
              "      <td>114.0</td>\n",
              "    </tr>\n",
              "    <tr>\n",
              "      <th>112</th>\n",
              "      <td>2317</td>\n",
              "      <td>2021/2/5</td>\n",
              "      <td>113.5</td>\n",
              "    </tr>\n",
              "  </tbody>\n",
              "</table>\n",
              "</div>\n",
              "      <button class=\"colab-df-convert\" onclick=\"convertToInteractive('df-ef3277b1-7bdb-446b-ae84-3ac3c2ecfda6')\"\n",
              "              title=\"Convert this dataframe to an interactive table.\"\n",
              "              style=\"display:none;\">\n",
              "        \n",
              "  <svg xmlns=\"http://www.w3.org/2000/svg\" height=\"24px\"viewBox=\"0 0 24 24\"\n",
              "       width=\"24px\">\n",
              "    <path d=\"M0 0h24v24H0V0z\" fill=\"none\"/>\n",
              "    <path d=\"M18.56 5.44l.94 2.06.94-2.06 2.06-.94-2.06-.94-.94-2.06-.94 2.06-2.06.94zm-11 1L8.5 8.5l.94-2.06 2.06-.94-2.06-.94L8.5 2.5l-.94 2.06-2.06.94zm10 10l.94 2.06.94-2.06 2.06-.94-2.06-.94-.94-2.06-.94 2.06-2.06.94z\"/><path d=\"M17.41 7.96l-1.37-1.37c-.4-.4-.92-.59-1.43-.59-.52 0-1.04.2-1.43.59L10.3 9.45l-7.72 7.72c-.78.78-.78 2.05 0 2.83L4 21.41c.39.39.9.59 1.41.59.51 0 1.02-.2 1.41-.59l7.78-7.78 2.81-2.81c.8-.78.8-2.07 0-2.86zM5.41 20L4 18.59l7.72-7.72 1.47 1.35L5.41 20z\"/>\n",
              "  </svg>\n",
              "      </button>\n",
              "      \n",
              "  <style>\n",
              "    .colab-df-container {\n",
              "      display:flex;\n",
              "      flex-wrap:wrap;\n",
              "      gap: 12px;\n",
              "    }\n",
              "\n",
              "    .colab-df-convert {\n",
              "      background-color: #E8F0FE;\n",
              "      border: none;\n",
              "      border-radius: 50%;\n",
              "      cursor: pointer;\n",
              "      display: none;\n",
              "      fill: #1967D2;\n",
              "      height: 32px;\n",
              "      padding: 0 0 0 0;\n",
              "      width: 32px;\n",
              "    }\n",
              "\n",
              "    .colab-df-convert:hover {\n",
              "      background-color: #E2EBFA;\n",
              "      box-shadow: 0px 1px 2px rgba(60, 64, 67, 0.3), 0px 1px 3px 1px rgba(60, 64, 67, 0.15);\n",
              "      fill: #174EA6;\n",
              "    }\n",
              "\n",
              "    [theme=dark] .colab-df-convert {\n",
              "      background-color: #3B4455;\n",
              "      fill: #D2E3FC;\n",
              "    }\n",
              "\n",
              "    [theme=dark] .colab-df-convert:hover {\n",
              "      background-color: #434B5C;\n",
              "      box-shadow: 0px 1px 3px 1px rgba(0, 0, 0, 0.15);\n",
              "      filter: drop-shadow(0px 1px 2px rgba(0, 0, 0, 0.3));\n",
              "      fill: #FFFFFF;\n",
              "    }\n",
              "  </style>\n",
              "\n",
              "      <script>\n",
              "        const buttonEl =\n",
              "          document.querySelector('#df-ef3277b1-7bdb-446b-ae84-3ac3c2ecfda6 button.colab-df-convert');\n",
              "        buttonEl.style.display =\n",
              "          google.colab.kernel.accessAllowed ? 'block' : 'none';\n",
              "\n",
              "        async function convertToInteractive(key) {\n",
              "          const element = document.querySelector('#df-ef3277b1-7bdb-446b-ae84-3ac3c2ecfda6');\n",
              "          const dataTable =\n",
              "            await google.colab.kernel.invokeFunction('convertToInteractive',\n",
              "                                                     [key], {});\n",
              "          if (!dataTable) return;\n",
              "\n",
              "          const docLinkHtml = 'Like what you see? Visit the ' +\n",
              "            '<a target=\"_blank\" href=https://colab.research.google.com/notebooks/data_table.ipynb>data table notebook</a>'\n",
              "            + ' to learn more about interactive tables.';\n",
              "          element.innerHTML = '';\n",
              "          dataTable['output_type'] = 'display_data';\n",
              "          await google.colab.output.renderOutput(dataTable, element);\n",
              "          const docLink = document.createElement('div');\n",
              "          docLink.innerHTML = docLinkHtml;\n",
              "          element.appendChild(docLink);\n",
              "        }\n",
              "      </script>\n",
              "    </div>\n",
              "  </div>\n",
              "  "
            ]
          },
          "metadata": {},
          "execution_count": 4
        }
      ]
    },
    {
      "cell_type": "code",
      "metadata": {
        "id": "d4qpw9ZaOkIq"
      },
      "source": [
        "####################################\n",
        "#                 #\n",
        "# 自己決定三家公司哪家公司(填數字)#\n",
        "# 挑選一家公司來做訓練、預測   #\n",
        "#                 #\n",
        "#                 #\n",
        "####################################\n",
        "companys = {\"2330\":\"TSMC\",\"2454\":\"MEDIATEK\",\"2317\":\"FOXCONN\"}\n",
        "company_id = 2330"
      ],
      "execution_count": 5,
      "outputs": []
    },
    {
      "cell_type": "code",
      "metadata": {
        "id": "6Qkjc3kHOoD8",
        "colab": {
          "base_uri": "https://localhost:8080/",
          "height": 237
        },
        "outputId": "8d206b81-93c2-40f6-8e76-54f57b974494"
      },
      "source": [
        "company = train_df[train_df[\"company\"] == company_id]\n",
        "company.index = company[\"date\"]\n",
        "company.head()"
      ],
      "execution_count": 6,
      "outputs": [
        {
          "output_type": "execute_result",
          "data": {
            "text/plain": [
              "          company      date  price\n",
              "date                              \n",
              "2012/1/2     2330  2012/1/2   75.0\n",
              "2012/1/3     2330  2012/1/3   75.7\n",
              "2012/1/4     2330  2012/1/4   75.8\n",
              "2012/1/5     2330  2012/1/5   76.0\n",
              "2012/1/6     2330  2012/1/6   75.6"
            ],
            "text/html": [
              "\n",
              "  <div id=\"df-3ba1fdbe-880d-45eb-bcee-ecab8673c173\">\n",
              "    <div class=\"colab-df-container\">\n",
              "      <div>\n",
              "<style scoped>\n",
              "    .dataframe tbody tr th:only-of-type {\n",
              "        vertical-align: middle;\n",
              "    }\n",
              "\n",
              "    .dataframe tbody tr th {\n",
              "        vertical-align: top;\n",
              "    }\n",
              "\n",
              "    .dataframe thead th {\n",
              "        text-align: right;\n",
              "    }\n",
              "</style>\n",
              "<table border=\"1\" class=\"dataframe\">\n",
              "  <thead>\n",
              "    <tr style=\"text-align: right;\">\n",
              "      <th></th>\n",
              "      <th>company</th>\n",
              "      <th>date</th>\n",
              "      <th>price</th>\n",
              "    </tr>\n",
              "    <tr>\n",
              "      <th>date</th>\n",
              "      <th></th>\n",
              "      <th></th>\n",
              "      <th></th>\n",
              "    </tr>\n",
              "  </thead>\n",
              "  <tbody>\n",
              "    <tr>\n",
              "      <th>2012/1/2</th>\n",
              "      <td>2330</td>\n",
              "      <td>2012/1/2</td>\n",
              "      <td>75.0</td>\n",
              "    </tr>\n",
              "    <tr>\n",
              "      <th>2012/1/3</th>\n",
              "      <td>2330</td>\n",
              "      <td>2012/1/3</td>\n",
              "      <td>75.7</td>\n",
              "    </tr>\n",
              "    <tr>\n",
              "      <th>2012/1/4</th>\n",
              "      <td>2330</td>\n",
              "      <td>2012/1/4</td>\n",
              "      <td>75.8</td>\n",
              "    </tr>\n",
              "    <tr>\n",
              "      <th>2012/1/5</th>\n",
              "      <td>2330</td>\n",
              "      <td>2012/1/5</td>\n",
              "      <td>76.0</td>\n",
              "    </tr>\n",
              "    <tr>\n",
              "      <th>2012/1/6</th>\n",
              "      <td>2330</td>\n",
              "      <td>2012/1/6</td>\n",
              "      <td>75.6</td>\n",
              "    </tr>\n",
              "  </tbody>\n",
              "</table>\n",
              "</div>\n",
              "      <button class=\"colab-df-convert\" onclick=\"convertToInteractive('df-3ba1fdbe-880d-45eb-bcee-ecab8673c173')\"\n",
              "              title=\"Convert this dataframe to an interactive table.\"\n",
              "              style=\"display:none;\">\n",
              "        \n",
              "  <svg xmlns=\"http://www.w3.org/2000/svg\" height=\"24px\"viewBox=\"0 0 24 24\"\n",
              "       width=\"24px\">\n",
              "    <path d=\"M0 0h24v24H0V0z\" fill=\"none\"/>\n",
              "    <path d=\"M18.56 5.44l.94 2.06.94-2.06 2.06-.94-2.06-.94-.94-2.06-.94 2.06-2.06.94zm-11 1L8.5 8.5l.94-2.06 2.06-.94-2.06-.94L8.5 2.5l-.94 2.06-2.06.94zm10 10l.94 2.06.94-2.06 2.06-.94-2.06-.94-.94-2.06-.94 2.06-2.06.94z\"/><path d=\"M17.41 7.96l-1.37-1.37c-.4-.4-.92-.59-1.43-.59-.52 0-1.04.2-1.43.59L10.3 9.45l-7.72 7.72c-.78.78-.78 2.05 0 2.83L4 21.41c.39.39.9.59 1.41.59.51 0 1.02-.2 1.41-.59l7.78-7.78 2.81-2.81c.8-.78.8-2.07 0-2.86zM5.41 20L4 18.59l7.72-7.72 1.47 1.35L5.41 20z\"/>\n",
              "  </svg>\n",
              "      </button>\n",
              "      \n",
              "  <style>\n",
              "    .colab-df-container {\n",
              "      display:flex;\n",
              "      flex-wrap:wrap;\n",
              "      gap: 12px;\n",
              "    }\n",
              "\n",
              "    .colab-df-convert {\n",
              "      background-color: #E8F0FE;\n",
              "      border: none;\n",
              "      border-radius: 50%;\n",
              "      cursor: pointer;\n",
              "      display: none;\n",
              "      fill: #1967D2;\n",
              "      height: 32px;\n",
              "      padding: 0 0 0 0;\n",
              "      width: 32px;\n",
              "    }\n",
              "\n",
              "    .colab-df-convert:hover {\n",
              "      background-color: #E2EBFA;\n",
              "      box-shadow: 0px 1px 2px rgba(60, 64, 67, 0.3), 0px 1px 3px 1px rgba(60, 64, 67, 0.15);\n",
              "      fill: #174EA6;\n",
              "    }\n",
              "\n",
              "    [theme=dark] .colab-df-convert {\n",
              "      background-color: #3B4455;\n",
              "      fill: #D2E3FC;\n",
              "    }\n",
              "\n",
              "    [theme=dark] .colab-df-convert:hover {\n",
              "      background-color: #434B5C;\n",
              "      box-shadow: 0px 1px 3px 1px rgba(0, 0, 0, 0.15);\n",
              "      filter: drop-shadow(0px 1px 2px rgba(0, 0, 0, 0.3));\n",
              "      fill: #FFFFFF;\n",
              "    }\n",
              "  </style>\n",
              "\n",
              "      <script>\n",
              "        const buttonEl =\n",
              "          document.querySelector('#df-3ba1fdbe-880d-45eb-bcee-ecab8673c173 button.colab-df-convert');\n",
              "        buttonEl.style.display =\n",
              "          google.colab.kernel.accessAllowed ? 'block' : 'none';\n",
              "\n",
              "        async function convertToInteractive(key) {\n",
              "          const element = document.querySelector('#df-3ba1fdbe-880d-45eb-bcee-ecab8673c173');\n",
              "          const dataTable =\n",
              "            await google.colab.kernel.invokeFunction('convertToInteractive',\n",
              "                                                     [key], {});\n",
              "          if (!dataTable) return;\n",
              "\n",
              "          const docLinkHtml = 'Like what you see? Visit the ' +\n",
              "            '<a target=\"_blank\" href=https://colab.research.google.com/notebooks/data_table.ipynb>data table notebook</a>'\n",
              "            + ' to learn more about interactive tables.';\n",
              "          element.innerHTML = '';\n",
              "          dataTable['output_type'] = 'display_data';\n",
              "          await google.colab.output.renderOutput(dataTable, element);\n",
              "          const docLink = document.createElement('div');\n",
              "          docLink.innerHTML = docLinkHtml;\n",
              "          element.appendChild(docLink);\n",
              "        }\n",
              "      </script>\n",
              "    </div>\n",
              "  </div>\n",
              "  "
            ]
          },
          "metadata": {},
          "execution_count": 6
        }
      ]
    },
    {
      "cell_type": "code",
      "metadata": {
        "id": "LacIURDSOos0"
      },
      "source": [
        "def include_last_iter(start,end,step):\n",
        "  i = start\n",
        "  while i < end:\n",
        "      yield i\n",
        "      i += step\n",
        "  yield end-1"
      ],
      "execution_count": 7,
      "outputs": []
    },
    {
      "cell_type": "code",
      "metadata": {
        "colab": {
          "base_uri": "https://localhost:8080/",
          "height": 537
        },
        "id": "ztReqaKGOpjl",
        "outputId": "5d6aebfc-c6c1-4278-eda0-b1bb585ce625"
      },
      "source": [
        "plt.figure(figsize=(16, 8))\n",
        "plt.subplots_adjust(hspace=0.5)\n",
        "for index,c in enumerate(companys):\n",
        "  plt.subplot(2,2,index+1)\n",
        "  company_df = train_df[train_df[\"company\"] == int(c)]\n",
        "  plt.plot(company_df[\"date\"],company_df[\"price\"])\n",
        "  plt.xticks(list(include_last_iter(0,company_df.shape[0],250)),rotation=30)\n",
        "  plt.title(companys[c])\n",
        "  plt.xlabel(\"Date\")\n",
        "  plt.ylabel(\"price\")\n",
        "    \n",
        "plt.show()"
      ],
      "execution_count": 8,
      "outputs": [
        {
          "output_type": "display_data",
          "data": {
            "text/plain": [
              "<Figure size 1152x576 with 3 Axes>"
            ],
            "image/png": "[encoded data removed]"
          },
          "metadata": {
            "needs_background": "light"
          }
        }
      ]
    },
    {
      "cell_type": "markdown",
      "metadata": {
        "id": "o-fbgns7YudB"
      },
      "source": [
        "## 3. 資料前處理"
      ]
    },
    {
      "cell_type": "code",
      "metadata": {
        "colab": {
          "base_uri": "https://localhost:8080/"
        },
        "id": "sg8bkUoMOsxG",
        "outputId": "a304e839-fe65-40e8-ce0e-a81178dffcf3"
      },
      "source": [
        "# 切分training data & validation data\n",
        "total_len = company.shape[0]\n",
        "training_len = 2100\n",
        "validation_data = total_len - training_len\n",
        "\n",
        "print(\"總共有 : \",total_len,\"筆\")\n",
        "print(\"訓練用 : (前)\",training_len,\"筆\")\n",
        "print(\"驗證用 : (後)\",validation_data,\"筆\")"
      ],
      "execution_count": 9,
      "outputs": [
        {
          "output_type": "stream",
          "name": "stdout",
          "text": [
            "總共有 :  2232 筆\n",
            "訓練用 : (前) 2100 筆\n",
            "驗證用 : (後) 132 筆\n"
          ]
        }
      ]
    },
    {
      "cell_type": "code",
      "metadata": {
        "id": "ndsIf36gW0Wl"
      },
      "source": [
        "# 自己做 MinMax Transformer 前處理 \n",
        "class MinMaxTransformer:\n",
        "  def __init__(self):\n",
        "    self.min = None\n",
        "    self.max = None\n",
        "    self.distance = None\n",
        "\n",
        "  def fit(self,data):\n",
        "    self.min = min(data)\n",
        "    self.max = max(data)\n",
        "    self.distance = self.max - self.min\n",
        "    out = [(d-self.min)/self.distance for d in data]\n",
        "    return out\n",
        "\n",
        "  def recover(self,data):\n",
        "    out = [d*self.distance+self.min for d in data]\n",
        "    return out\n",
        "\n",
        "  def transform(self,data):\n",
        "    out = [(d-self.min)/self.distance for d in data]\n",
        "    return out\n",
        "\n",
        "  def transform_one(self,data):\n",
        "    return (data-self.min)/self.distance"
      ],
      "execution_count": 10,
      "outputs": []
    },
    {
      "cell_type": "code",
      "metadata": {
        "id": "urZjG_kDOuTP"
      },
      "source": [
        "train_prices = company[\"price\"].values\n",
        "\n",
        "scalar = MinMaxTransformer()\n",
        "scalar_data = scalar.fit(train_prices)"
      ],
      "execution_count": 11,
      "outputs": []
    },
    {
      "cell_type": "code",
      "metadata": {
        "colab": {
          "base_uri": "https://localhost:8080/"
        },
        "id": "vRXJt6sWizwT",
        "outputId": "be2ddd14-5764-4d88-883d-2239ecd14a28"
      },
      "source": [
        "# 做正規化\n",
        "print(\"origin data : \",train_prices[:5])\n",
        "print(\"transform data : \",scalar_data[:5])\n",
        "print(\"recover data : \",scalar.recover(scalar_data[:5]))"
      ],
      "execution_count": 12,
      "outputs": [
        {
          "output_type": "stream",
          "name": "stdout",
          "text": [
            "origin data :  [75.  75.7 75.8 76.  75.6]\n",
            "transform data :  [0.00116919993318858, 0.00233839986637716, 0.0025054284282612325, 0.0028394855520294015, 0.002171371304493063]\n",
            "recover data :  [75.0, 75.7, 75.8, 76.0, 75.6]\n"
          ]
        }
      ]
    },
    {
      "cell_type": "code",
      "metadata": {
        "id": "Jcwp01DcVyCv"
      },
      "source": [
        "# 切分資料集\n",
        "training_data = scalar_data[:training_len]\n",
        "validation_data = scalar_data[training_len:]"
      ],
      "execution_count": 13,
      "outputs": []
    },
    {
      "cell_type": "code",
      "metadata": {
        "id": "OGbPWD0bVT3j"
      },
      "source": [
        "# todo 決定Seq長度\n",
        "seq_len = 8\n",
        "\n",
        "def split_input_target(seq):\n",
        "  input_txt = tf.expand_dims(seq[:-1],-1)\n",
        "  target_txt = tf.expand_dims(seq[1:],-1)\n",
        "  return input_txt,target_txt"
      ],
      "execution_count": 14,
      "outputs": []
    },
    {
      "cell_type": "code",
      "metadata": {
        "id": "HP47J0uvVcix"
      },
      "source": [
        "def make_ds(data):\n",
        "  data_slice = tf.data.Dataset.from_tensor_slices(data)\n",
        "  data_sequence = data_slice.batch(seq_len+1,drop_remainder=True)\n",
        "\n",
        "  dataset = data_sequence.map(split_input_target)\n",
        "  return dataset"
      ],
      "execution_count": 15,
      "outputs": []
    },
    {
      "cell_type": "code",
      "metadata": {
        "id": "5ahh3yHx8f4u",
        "colab": {
          "base_uri": "https://localhost:8080/"
        },
        "outputId": "c6c5a79a-763d-45ad-83c2-7dc0223c000a"
      },
      "source": [
        "# 製作資料集\n",
        "train_ds = make_ds(training_data)\n",
        "val_ds = make_ds(validation_data)\n",
        "\n",
        "###\n",
        "\n",
        "for input_example,target_exaple in train_ds.take(1):\n",
        "  print(\"Input :\", scalar.recover(input_example.numpy()))\n",
        "  print(\"Target:\", scalar.recover(target_exaple.numpy()))\n",
        "  print(\"-\"*50)\n",
        "  print(\"Input :\", input_example.numpy())\n",
        "  print(\"Target:\", target_exaple.numpy())"
      ],
      "execution_count": 16,
      "outputs": [
        {
          "output_type": "stream",
          "name": "stdout",
          "text": [
            "Input : [array([75.]), array([75.7]), array([75.8]), array([76.]), array([75.6]), array([75.6]), array([76.5]), array([76.5])]\n",
            "Target: [array([75.7]), array([75.8]), array([76.]), array([75.6]), array([75.6]), array([76.5]), array([76.5]), array([77.])]\n",
            "--------------------------------------------------\n",
            "Input : [[0.0011692 ]\n",
            " [0.0023384 ]\n",
            " [0.00250543]\n",
            " [0.00283949]\n",
            " [0.00217137]\n",
            " [0.00217137]\n",
            " [0.00367463]\n",
            " [0.00367463]]\n",
            "Target: [[0.0023384 ]\n",
            " [0.00250543]\n",
            " [0.00283949]\n",
            " [0.00217137]\n",
            " [0.00217137]\n",
            " [0.00367463]\n",
            " [0.00367463]\n",
            " [0.00450977]]\n"
          ]
        }
      ]
    },
    {
      "cell_type": "code",
      "metadata": {
        "id": "xfilEwW9843h"
      },
      "source": [
        "# Batch size\n",
        "# todo 決定Batch大小\n",
        "BATCH_SIZE = 8\n",
        "\n",
        "BUFFER_SIZE = training_len\n",
        "\n",
        "train_ds = train_ds.shuffle(BUFFER_SIZE).batch(BATCH_SIZE)\n",
        "val_ds = val_ds.batch(BATCH_SIZE)"
      ],
      "execution_count": 17,
      "outputs": []
    },
    {
      "cell_type": "markdown",
      "metadata": {
        "id": "SSlabzCtaG3Y"
      },
      "source": [
        "## 4. 建立模型\n",
        "\n",
        "提示: Output是一個數值，所以Model output維度為1。\n",
        "\n",
        "* 輸入維度應為: (batch,seq_len,1)\n",
        "\n",
        "* 輸出維度應為: (batch,seq_len,1)\n",
        "\n",
        "**最後一層Dense不要加上任何activation function。**\n"
      ]
    },
    {
      "cell_type": "markdown",
      "source": [
        "## 果然不能不信邪\n",
        "哭阿，試了一堆還是都沒用\n",
        "反正在這個case不能用ReLU就對了，走了好多冤枉路\n",
        "tanh，是 LSTM default 的 activation function，不用寫上去才是；\n",
        "而 ArcTan 的圖形跟 tanh 很像，但在這裡也不能用，效果不好"
      ],
      "metadata": {
        "id": "iLRd72A-jhQ1"
      }
    },
    {
      "cell_type": "code",
      "metadata": {
        "id": "JJ-76DoZ9FG2",
        "colab": {
          "base_uri": "https://localhost:8080/"
        },
        "outputId": "ddfa1525-6b71-4951-cca6-552b4859bd3d"
      },
      "source": [
        "# todo\n",
        "input_shape = (seq_len, 1)\n",
        "output_shape = [BATCH_SIZE, seq_len ,1 ]\n",
        "\n",
        "keras.backend.clear_session()\n",
        "model = tf.keras.Sequential(\n",
        "    [\n",
        "      layers.LSTM(units = 64, input_shape=input_shape, activation=\"tanh\", return_sequences=True),\n",
        "      layers.Dropout(0.2),\n",
        "      layers.LSTM(units = 64, input_shape=input_shape, activation=\"tanh\", return_sequences=True),\n",
        "      layers.Dropout(0.2),\n",
        "      layers.LSTM(units = 64, input_shape=input_shape, activation=\"tanh\", return_sequences=True),\n",
        "      layers.Dropout(0.2),\n",
        "      # layers.LSTM(units = 64, input_shape=input_shape, activation=\"tanh\"),\n",
        "      layers.LSTM(units = 64, input_shape=input_shape, activation=\"tanh\", return_sequences=True),\n",
        "      layers.Dropout(0.2),\n",
        "      layers.TimeDistributed(layers.Dense(1)),\n",
        "      # layers.Dropout(0.2),\n",
        "      # layers.Flatten(),\n",
        "      # layers.GlobalAveragePooling1D(),\n",
        "      # layers.Dropout(0.2),\n",
        "      # layers.Dense(1)\n",
        "    ]\n",
        ")\n",
        "\n",
        "model.summary()"
      ],
      "execution_count": 33,
      "outputs": [
        {
          "output_type": "stream",
          "name": "stdout",
          "text": [
            "Model: \"sequential\"\n",
            "_________________________________________________________________\n",
            " Layer (type)                Output Shape              Param #   \n",
            "=================================================================\n",
            " lstm (LSTM)                 (None, 8, 64)             16896     \n",
            "                                                                 \n",
            " dropout (Dropout)           (None, 8, 64)             0         \n",
            "                                                                 \n",
            " lstm_1 (LSTM)               (None, 8, 64)             33024     \n",
            "                                                                 \n",
            " dropout_1 (Dropout)         (None, 8, 64)             0         \n",
            "                                                                 \n",
            " lstm_2 (LSTM)               (None, 8, 64)             33024     \n",
            "                                                                 \n",
            " dropout_2 (Dropout)         (None, 8, 64)             0         \n",
            "                                                                 \n",
            " lstm_3 (LSTM)               (None, 8, 64)             33024     \n",
            "                                                                 \n",
            " dropout_3 (Dropout)         (None, 8, 64)             0         \n",
            "                                                                 \n",
            " time_distributed (TimeDistr  (None, 8, 1)             65        \n",
            " ibuted)                                                         \n",
            "                                                                 \n",
            "=================================================================\n",
            "Total params: 116,033\n",
            "Trainable params: 116,033\n",
            "Non-trainable params: 0\n",
            "_________________________________________________________________\n"
          ]
        }
      ]
    },
    {
      "cell_type": "markdown",
      "metadata": {
        "id": "bsa9LxCcaJxN"
      },
      "source": [
        "## 5. 制定訓練計畫並訓練\n",
        "\n",
        "我們做數字相關預測，可以考慮用Mean_Squared_Error\n",
        "\n",
        "公式:\n",
        "$$MSE = \\frac{1}{n} \\sum_{i=1}^N({\\gamma-\\hat{\\gamma}})^2$$\n",
        "\n",
        "\n",
        "提示:\n",
        "不用管公式在幹嘛，compile帶入mean_squared_error。"
      ]
    },
    {
      "cell_type": "code",
      "metadata": {
        "id": "SIBlVYai-ZuU",
        "colab": {
          "base_uri": "https://localhost:8080/"
        },
        "outputId": "68acc0a9-51b5-40b7-dc4a-3552a35abe7e"
      },
      "source": [
        "epochs = 50\n",
        "\n",
        "!pip install -U tensorflow-addons\n",
        "import tensorflow_addons as tfa\n",
        "from keras import optimizers\n",
        "\n",
        "radam = tfa.optimizers.RectifiedAdam(0.001)\n",
        "ranger = tfa.optimizers.Lookahead(radam,sync_period=6,slow_step_size=0.5)\n",
        "model.compile(optimizer=ranger, loss='mean_squared_error')\n",
        "\n",
        "history = model.fit(\n",
        "    train_ds,\n",
        "    epochs = epochs,\n",
        "    validation_data=val_ds,\n",
        "    shuffle=True\n",
        ")"
      ],
      "execution_count": 34,
      "outputs": [
        {
          "output_type": "stream",
          "name": "stdout",
          "text": [
            "Requirement already satisfied: tensorflow-addons in /usr/local/lib/python3.7/dist-packages (0.16.1)\n",
            "Requirement already satisfied: typeguard>=2.7 in /usr/local/lib/python3.7/dist-packages (from tensorflow-addons) (2.7.1)\n",
            "Epoch 1/50\n",
            "30/30 [==============================] - 9s 59ms/step - loss: 0.0397 - val_loss: 0.4324\n",
            "Epoch 2/50\n",
            "30/30 [==============================] - 0s 16ms/step - loss: 0.0325 - val_loss: 0.3786\n",
            "Epoch 3/50\n",
            "30/30 [==============================] - 1s 16ms/step - loss: 0.0225 - val_loss: 0.2813\n",
            "Epoch 4/50\n",
            "30/30 [==============================] - 1s 17ms/step - loss: 0.0181 - val_loss: 0.2528\n",
            "Epoch 5/50\n",
            "30/30 [==============================] - 1s 17ms/step - loss: 0.0165 - val_loss: 0.2233\n",
            "Epoch 6/50\n",
            "30/30 [==============================] - 1s 17ms/step - loss: 0.0148 - val_loss: 0.1990\n",
            "Epoch 7/50\n",
            "30/30 [==============================] - 1s 17ms/step - loss: 0.0125 - val_loss: 0.1707\n",
            "Epoch 8/50\n",
            "30/30 [==============================] - 0s 16ms/step - loss: 0.0104 - val_loss: 0.1546\n",
            "Epoch 9/50\n",
            "30/30 [==============================] - 1s 16ms/step - loss: 0.0088 - val_loss: 0.1342\n",
            "Epoch 10/50\n",
            "30/30 [==============================] - 1s 16ms/step - loss: 0.0079 - val_loss: 0.1176\n",
            "Epoch 11/50\n",
            "30/30 [==============================] - 1s 17ms/step - loss: 0.0072 - val_loss: 0.1075\n",
            "Epoch 12/50\n",
            "30/30 [==============================] - 1s 18ms/step - loss: 0.0067 - val_loss: 0.0986\n",
            "Epoch 13/50\n",
            "30/30 [==============================] - 1s 17ms/step - loss: 0.0062 - val_loss: 0.0890\n",
            "Epoch 14/50\n",
            "30/30 [==============================] - 1s 17ms/step - loss: 0.0057 - val_loss: 0.0806\n",
            "Epoch 15/50\n",
            "30/30 [==============================] - 1s 18ms/step - loss: 0.0051 - val_loss: 0.0734\n",
            "Epoch 16/50\n",
            "30/30 [==============================] - 1s 17ms/step - loss: 0.0045 - val_loss: 0.0683\n",
            "Epoch 17/50\n",
            "30/30 [==============================] - 1s 17ms/step - loss: 0.0041 - val_loss: 0.0639\n",
            "Epoch 18/50\n",
            "30/30 [==============================] - 1s 17ms/step - loss: 0.0037 - val_loss: 0.0593\n",
            "Epoch 19/50\n",
            "30/30 [==============================] - 1s 17ms/step - loss: 0.0035 - val_loss: 0.0551\n",
            "Epoch 20/50\n",
            "30/30 [==============================] - 1s 16ms/step - loss: 0.0032 - val_loss: 0.0501\n",
            "Epoch 21/50\n",
            "30/30 [==============================] - 1s 17ms/step - loss: 0.0029 - val_loss: 0.0452\n",
            "Epoch 22/50\n",
            "30/30 [==============================] - 1s 16ms/step - loss: 0.0027 - val_loss: 0.0414\n",
            "Epoch 23/50\n",
            "30/30 [==============================] - 1s 16ms/step - loss: 0.0025 - val_loss: 0.0368\n",
            "Epoch 24/50\n",
            "30/30 [==============================] - 1s 17ms/step - loss: 0.0023 - val_loss: 0.0337\n",
            "Epoch 25/50\n",
            "30/30 [==============================] - 1s 16ms/step - loss: 0.0020 - val_loss: 0.0285\n",
            "Epoch 26/50\n",
            "30/30 [==============================] - 0s 16ms/step - loss: 0.0018 - val_loss: 0.0247\n",
            "Epoch 27/50\n",
            "30/30 [==============================] - 1s 16ms/step - loss: 0.0017 - val_loss: 0.0215\n",
            "Epoch 28/50\n",
            "30/30 [==============================] - 1s 16ms/step - loss: 0.0015 - val_loss: 0.0191\n",
            "Epoch 29/50\n",
            "30/30 [==============================] - 1s 18ms/step - loss: 0.0014 - val_loss: 0.0167\n",
            "Epoch 30/50\n",
            "30/30 [==============================] - 1s 16ms/step - loss: 0.0012 - val_loss: 0.0145\n",
            "Epoch 31/50\n",
            "30/30 [==============================] - 1s 16ms/step - loss: 0.0011 - val_loss: 0.0122\n",
            "Epoch 32/50\n",
            "30/30 [==============================] - 0s 16ms/step - loss: 9.5141e-04 - val_loss: 0.0105\n",
            "Epoch 33/50\n",
            "30/30 [==============================] - 1s 17ms/step - loss: 8.8219e-04 - val_loss: 0.0089\n",
            "Epoch 34/50\n",
            "30/30 [==============================] - 1s 17ms/step - loss: 8.3939e-04 - val_loss: 0.0074\n",
            "Epoch 35/50\n",
            "30/30 [==============================] - 0s 16ms/step - loss: 7.4733e-04 - val_loss: 0.0062\n",
            "Epoch 36/50\n",
            "30/30 [==============================] - 1s 17ms/step - loss: 6.6521e-04 - val_loss: 0.0049\n",
            "Epoch 37/50\n",
            "30/30 [==============================] - 1s 16ms/step - loss: 5.9665e-04 - val_loss: 0.0035\n",
            "Epoch 38/50\n",
            "30/30 [==============================] - 1s 17ms/step - loss: 5.5159e-04 - val_loss: 0.0030\n",
            "Epoch 39/50\n",
            "30/30 [==============================] - 1s 17ms/step - loss: 5.2933e-04 - val_loss: 0.0022\n",
            "Epoch 40/50\n",
            "30/30 [==============================] - 1s 17ms/step - loss: 4.6547e-04 - val_loss: 0.0015\n",
            "Epoch 41/50\n",
            "30/30 [==============================] - 1s 16ms/step - loss: 4.7505e-04 - val_loss: 0.0013\n",
            "Epoch 42/50\n",
            "30/30 [==============================] - 0s 16ms/step - loss: 4.1765e-04 - val_loss: 9.5972e-04\n",
            "Epoch 43/50\n",
            "30/30 [==============================] - 1s 16ms/step - loss: 3.9399e-04 - val_loss: 0.0011\n",
            "Epoch 44/50\n",
            "30/30 [==============================] - 0s 16ms/step - loss: 3.6577e-04 - val_loss: 8.9815e-04\n",
            "Epoch 45/50\n",
            "30/30 [==============================] - 1s 17ms/step - loss: 3.7052e-04 - val_loss: 8.1145e-04\n",
            "Epoch 46/50\n",
            "30/30 [==============================] - 1s 17ms/step - loss: 3.5825e-04 - val_loss: 5.7239e-04\n",
            "Epoch 47/50\n",
            "30/30 [==============================] - 1s 17ms/step - loss: 3.4442e-04 - val_loss: 6.2376e-04\n",
            "Epoch 48/50\n",
            "30/30 [==============================] - 1s 16ms/step - loss: 3.5813e-04 - val_loss: 0.0012\n",
            "Epoch 49/50\n",
            "30/30 [==============================] - 1s 17ms/step - loss: 3.2836e-04 - val_loss: 0.0012\n",
            "Epoch 50/50\n",
            "30/30 [==============================] - 1s 16ms/step - loss: 3.3484e-04 - val_loss: 8.5690e-04\n"
          ]
        }
      ]
    },
    {
      "cell_type": "markdown",
      "metadata": {
        "id": "4fLe9uGZaMBJ"
      },
      "source": [
        "## 6. 評估模型"
      ]
    },
    {
      "cell_type": "code",
      "metadata": {
        "id": "j3T68McvCkcl",
        "colab": {
          "base_uri": "https://localhost:8080/",
          "height": 295
        },
        "outputId": "5aac8610-d182-4c90-d71a-ea0401cb75ee"
      },
      "source": [
        "l1, = plt.plot(history.history['loss'])\n",
        "l2, = plt.plot(history.history['val_loss'])\n",
        "plt.legend(handles=[l1,l2],labels=['loss','val_loss'],loc='best')\n",
        "plt.title('model loss')\n",
        "plt.ylabel('loss')\n",
        "plt.xlabel('epoch')\n",
        "\n",
        "plt.show()"
      ],
      "execution_count": 35,
      "outputs": [
        {
          "output_type": "display_data",
          "data": {
            "text/plain": [
              "<Figure size 432x288 with 1 Axes>"
            ],
            "image/png": "[encoded data removed]"
          },
          "metadata": {
            "needs_background": "light"
          }
        }
      ]
    },
    {
      "cell_type": "code",
      "metadata": {
        "id": "CUoUTu8KC_Sq",
        "colab": {
          "base_uri": "https://localhost:8080/",
          "height": 206
        },
        "outputId": "c0e4c803-9f95-4663-aecf-9826e6d3db24"
      },
      "source": [
        "test_company = test_df[test_df[\"company\"] == company_id]\n",
        "test_company.head()"
      ],
      "execution_count": 36,
      "outputs": [
        {
          "output_type": "execute_result",
          "data": {
            "text/plain": [
              "    company      date  price\n",
              "38     2330  2021/2/1  611.0\n",
              "37     2330  2021/2/2  632.0\n",
              "36     2330  2021/2/3  630.0\n",
              "35     2330  2021/2/4  627.0\n",
              "34     2330  2021/2/5  632.0"
            ],
            "text/html": [
              "\n",
              "  <div id=\"df-19f3a1d0-9a47-46ba-bafb-1c59229f445f\">\n",
              "    <div class=\"colab-df-container\">\n",
              "      <div>\n",
              "<style scoped>\n",
              "    .dataframe tbody tr th:only-of-type {\n",
              "        vertical-align: middle;\n",
              "    }\n",
              "\n",
              "    .dataframe tbody tr th {\n",
              "        vertical-align: top;\n",
              "    }\n",
              "\n",
              "    .dataframe thead th {\n",
              "        text-align: right;\n",
              "    }\n",
              "</style>\n",
              "<table border=\"1\" class=\"dataframe\">\n",
              "  <thead>\n",
              "    <tr style=\"text-align: right;\">\n",
              "      <th></th>\n",
              "      <th>company</th>\n",
              "      <th>date</th>\n",
              "      <th>price</th>\n",
              "    </tr>\n",
              "  </thead>\n",
              "  <tbody>\n",
              "    <tr>\n",
              "      <th>38</th>\n",
              "      <td>2330</td>\n",
              "      <td>2021/2/1</td>\n",
              "      <td>611.0</td>\n",
              "    </tr>\n",
              "    <tr>\n",
              "      <th>37</th>\n",
              "      <td>2330</td>\n",
              "      <td>2021/2/2</td>\n",
              "      <td>632.0</td>\n",
              "    </tr>\n",
              "    <tr>\n",
              "      <th>36</th>\n",
              "      <td>2330</td>\n",
              "      <td>2021/2/3</td>\n",
              "      <td>630.0</td>\n",
              "    </tr>\n",
              "    <tr>\n",
              "      <th>35</th>\n",
              "      <td>2330</td>\n",
              "      <td>2021/2/4</td>\n",
              "      <td>627.0</td>\n",
              "    </tr>\n",
              "    <tr>\n",
              "      <th>34</th>\n",
              "      <td>2330</td>\n",
              "      <td>2021/2/5</td>\n",
              "      <td>632.0</td>\n",
              "    </tr>\n",
              "  </tbody>\n",
              "</table>\n",
              "</div>\n",
              "      <button class=\"colab-df-convert\" onclick=\"convertToInteractive('df-19f3a1d0-9a47-46ba-bafb-1c59229f445f')\"\n",
              "              title=\"Convert this dataframe to an interactive table.\"\n",
              "              style=\"display:none;\">\n",
              "        \n",
              "  <svg xmlns=\"http://www.w3.org/2000/svg\" height=\"24px\"viewBox=\"0 0 24 24\"\n",
              "       width=\"24px\">\n",
              "    <path d=\"M0 0h24v24H0V0z\" fill=\"none\"/>\n",
              "    <path d=\"M18.56 5.44l.94 2.06.94-2.06 2.06-.94-2.06-.94-.94-2.06-.94 2.06-2.06.94zm-11 1L8.5 8.5l.94-2.06 2.06-.94-2.06-.94L8.5 2.5l-.94 2.06-2.06.94zm10 10l.94 2.06.94-2.06 2.06-.94-2.06-.94-.94-2.06-.94 2.06-2.06.94z\"/><path d=\"M17.41 7.96l-1.37-1.37c-.4-.4-.92-.59-1.43-.59-.52 0-1.04.2-1.43.59L10.3 9.45l-7.72 7.72c-.78.78-.78 2.05 0 2.83L4 21.41c.39.39.9.59 1.41.59.51 0 1.02-.2 1.41-.59l7.78-7.78 2.81-2.81c.8-.78.8-2.07 0-2.86zM5.41 20L4 18.59l7.72-7.72 1.47 1.35L5.41 20z\"/>\n",
              "  </svg>\n",
              "      </button>\n",
              "      \n",
              "  <style>\n",
              "    .colab-df-container {\n",
              "      display:flex;\n",
              "      flex-wrap:wrap;\n",
              "      gap: 12px;\n",
              "    }\n",
              "\n",
              "    .colab-df-convert {\n",
              "      background-color: #E8F0FE;\n",
              "      border: none;\n",
              "      border-radius: 50%;\n",
              "      cursor: pointer;\n",
              "      display: none;\n",
              "      fill: #1967D2;\n",
              "      height: 32px;\n",
              "      padding: 0 0 0 0;\n",
              "      width: 32px;\n",
              "    }\n",
              "\n",
              "    .colab-df-convert:hover {\n",
              "      background-color: #E2EBFA;\n",
              "      box-shadow: 0px 1px 2px rgba(60, 64, 67, 0.3), 0px 1px 3px 1px rgba(60, 64, 67, 0.15);\n",
              "      fill: #174EA6;\n",
              "    }\n",
              "\n",
              "    [theme=dark] .colab-df-convert {\n",
              "      background-color: #3B4455;\n",
              "      fill: #D2E3FC;\n",
              "    }\n",
              "\n",
              "    [theme=dark] .colab-df-convert:hover {\n",
              "      background-color: #434B5C;\n",
              "      box-shadow: 0px 1px 3px 1px rgba(0, 0, 0, 0.15);\n",
              "      filter: drop-shadow(0px 1px 2px rgba(0, 0, 0, 0.3));\n",
              "      fill: #FFFFFF;\n",
              "    }\n",
              "  </style>\n",
              "\n",
              "      <script>\n",
              "        const buttonEl =\n",
              "          document.querySelector('#df-19f3a1d0-9a47-46ba-bafb-1c59229f445f button.colab-df-convert');\n",
              "        buttonEl.style.display =\n",
              "          google.colab.kernel.accessAllowed ? 'block' : 'none';\n",
              "\n",
              "        async function convertToInteractive(key) {\n",
              "          const element = document.querySelector('#df-19f3a1d0-9a47-46ba-bafb-1c59229f445f');\n",
              "          const dataTable =\n",
              "            await google.colab.kernel.invokeFunction('convertToInteractive',\n",
              "                                                     [key], {});\n",
              "          if (!dataTable) return;\n",
              "\n",
              "          const docLinkHtml = 'Like what you see? Visit the ' +\n",
              "            '<a target=\"_blank\" href=https://colab.research.google.com/notebooks/data_table.ipynb>data table notebook</a>'\n",
              "            + ' to learn more about interactive tables.';\n",
              "          element.innerHTML = '';\n",
              "          dataTable['output_type'] = 'display_data';\n",
              "          await google.colab.output.renderOutput(dataTable, element);\n",
              "          const docLink = document.createElement('div');\n",
              "          docLink.innerHTML = docLinkHtml;\n",
              "          element.appendChild(docLink);\n",
              "        }\n",
              "      </script>\n",
              "    </div>\n",
              "  </div>\n",
              "  "
            ]
          },
          "metadata": {},
          "execution_count": 36
        }
      ]
    },
    {
      "cell_type": "markdown",
      "metadata": {
        "id": "JaDw00V8Z-Lw"
      },
      "source": [
        "## 7. 做預測 (20分)"
      ]
    },
    {
      "cell_type": "code",
      "metadata": {
        "id": "vFf2lmOFElai",
        "colab": {
          "base_uri": "https://localhost:8080/"
        },
        "outputId": "a6a29f36-b7ef-4ee4-a09a-9cb73c54a644"
      },
      "source": [
        "# 預測 Test data\n",
        "# 現在我們取出了選定公司最後seq_len天\n",
        "# 我們模型透過讀取seq_len天後預測出seq_len+1天的價格\n",
        "\n",
        "# 將日期保存在datas中 (list)\n",
        "# 將真實價格保存在real_prices中 (list)\n",
        "# 將預測價格保存在pred_prices中 (list) *注: 請填入經過正規化後的價格\n",
        "\n",
        "# input是一個經過**正規化**的真實價格list，請試著遍歷test_company來填滿上述三個list\n",
        "# 可以參考TextGeneration的generateWords function，概念一樣，但是這次input請全部都填入\"真實價格\"\n",
        "# 但是這次input請append \"真實價格\"\n",
        "# 但是這次input請append \"真實價格\"\n",
        "# 但是這次input請append \"真實價格\"\n",
        "# 但是這次input請append \"真實價格\"\n",
        "# 但是這次input請append \"真實價格\"\n",
        "\n",
        "init_price = company.iloc[-seq_len:,:][\"price\"].values\n",
        "dates = []\n",
        "real_prices = []\n",
        "pred_prices = []\n",
        "\n",
        "input = scalar.transform(init_price)\n",
        "\n",
        "print(input)\n",
        "for index,row in test_company.iterrows():\n",
        "  # 我已經幫你把real_price和date放入list\n",
        "  real_price = row[\"price\"]\n",
        "  real_prices.append(real_price)\n",
        "  date = row[\"date\"]\n",
        "  dates.append(date)\n",
        "\n",
        "  next_input =  tf.expand_dims(input,axis=0)\n",
        "  next_input =  tf.expand_dims(next_input,axis=2)\n",
        "  pred = model.predict(next_input)\n",
        "  last_output =pred[0,-1]\n",
        "  pred_prices.append(last_output)\n",
        "  real_price = scalar.transform_one(real_price)\n",
        "  input.append(real_price)\n",
        "  del(input[0])\n",
        "\n",
        "  # 參考步驟 (在for迴圈中) :\n",
        "  # 1. 把input轉**維度**成一個新變數next_input丟入model\n",
        "  # 2. 獲得的pred取出seq中最後一個時間點的output數值 (提示: [0,-1,0])\n",
        "  # 3. 把pred丟入pred_prices中\n",
        "  # 4. 把real_price經過transform_one轉換成小數點並加在input後面\n",
        "  # 5. 保持input長度為seq_len長 (也就是把最前面的數字踢掉)"
      ],
      "execution_count": 37,
      "outputs": [
        {
          "output_type": "stream",
          "name": "stdout",
          "text": [
            "[0.9565725739101386, 1.0, 0.9599131451478203, 0.9331885752463671, 0.906464005344914, 0.9031234341072324, 0.8797394354434609, 0.8630365792550526]\n"
          ]
        }
      ]
    },
    {
      "cell_type": "code",
      "metadata": {
        "id": "1TIRXmjWbbXq",
        "colab": {
          "base_uri": "https://localhost:8080/"
        },
        "outputId": "2741ea29-79c1-44f6-d7a3-5efb2323b628"
      },
      "source": [
        "print(f\"dates : {dates[:10]}\")\n",
        "print(f\"real_prices : {real_prices[:10]}\")\n",
        "print(f\"pred_prices : {pred_prices[:10]}\")"
      ],
      "execution_count": 38,
      "outputs": [
        {
          "output_type": "stream",
          "name": "stdout",
          "text": [
            "dates : ['2021/2/1', '2021/2/2', '2021/2/3', '2021/2/4', '2021/2/5', '2021/2/17', '2021/2/18', '2021/2/19', '2021/2/22', '2021/2/23']\n",
            "real_prices : [611.0, 632.0, 630.0, 627.0, 632.0, 663.0, 660.0, 652.0, 650.0, 641.0]\n",
            "pred_prices : [array([0.8637597], dtype=float32), array([0.9032419], dtype=float32), array([0.9343704], dtype=float32), array([0.9213828], dtype=float32), array([0.91655314], dtype=float32), array([0.927493], dtype=float32), array([0.98597], dtype=float32), array([0.9663236], dtype=float32), array([0.95440054], dtype=float32), array([0.9543782], dtype=float32)]\n"
          ]
        }
      ]
    },
    {
      "cell_type": "markdown",
      "metadata": {
        "id": "cukTAdbxbGKN"
      },
      "source": [
        "* 預期結果:\n",
        "\n",
        "![](https://i.imgur.com/iXdMWD6.png)"
      ]
    },
    {
      "cell_type": "code",
      "metadata": {
        "id": "mAxyVvCsO1Ei",
        "colab": {
          "base_uri": "https://localhost:8080/",
          "height": 537
        },
        "outputId": "fe0a6561-3c22-4d44-da10-4f8bf64d17cb"
      },
      "source": [
        "plt.figure(figsize=(16, 8))\n",
        "l1, = plt.plot(dates,real_prices)\n",
        "l2, = plt.plot(dates,scalar.recover(pred_prices))\n",
        "plt.xticks(list(include_last_iter(0,len(dates),3)),rotation=30)\n",
        "plt.legend(handles=[l1,l2],labels=['Real','Pred'],loc='best')\n",
        "plt.title(companys[str(company_id)])\n",
        "plt.xlabel(\"Date\")\n",
        "plt.ylabel(\"price\")\n",
        "plt.show()"
      ],
      "execution_count": 39,
      "outputs": [
        {
          "output_type": "display_data",
          "data": {
            "text/plain": [
              "<Figure size 1152x576 with 1 Axes>"
            ],
            "image/png": "[encoded data removed]"
          },
          "metadata": {
            "needs_background": "light"
          }
        }
      ]
    },
    {
      "cell_type": "markdown",
      "metadata": {
        "id": "zXrQ1B1majO2"
      },
      "source": [
        "* 預期成果\n",
        "\n",
        "照理來說不會100%猜中，猜中幾乎100%可能是不小心偷看答案了。\n",
        "\n",
        "不過要是你的模型正確的話，應該會看到如下pred price在true price附近而不是躺在地上。\n",
        "\n",
        "![](https://i.imgur.com/tFoKEyK.png)"
      ]
    }
  ]
}