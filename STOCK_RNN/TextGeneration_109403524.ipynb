{
  "cells": [
    {
      "cell_type": "markdown",
      "metadata": {
        "id": "wRBvwrOM15OY"
      },
      "source": [
        "<img src=\"https://i.imgur.com/12tfKrD.png\" alt=\"Alin\">\n",
        "</img>\n",
        "\n",
        "\n",
        "# Demo RNN -- 張愛玲散文集AI二次創作\n",
        "\n",
        "資料集: 張愛玲繁體中文小說 《傳奇》\n",
        "\n",
        "爬蟲來源: [crawl_book](https://colab.research.google.com/drive/1f_HvQEvgkJPFc473TlA-I_3EmkThA2SR?usp=sharing)\n",
        "\n",
        "程式碼參考: [Tensorflow](https://www.tensorflow.org/tutorials/text/text_generation)\n",
        "\n",
        "本次資料集，著作權乃是張愛玲女士所擁有。**請勿將本次資料集散播、更改、用於非商業用途**。\n",
        "\n",
        "> **資料集說明**\n",
        "\n",
        "今年是張愛玲女士101年誕辰。張愛玲出生名門，曾就讀於香港大學和聖約翰大學，受過良好的中西教育。上海淪陷時期，陸續發表《沉香屑·第一爐香》、《傾城之戀》、《心經》、《金鎖記》等中、短篇小說，震動上海文壇。\n",
        "\n",
        "這次訓練取張愛玲散文集《傳奇》作為訓練，《傳奇》收留五篇散文: 「留情」、「鴻鸞禧」、「紅玫瑰與白玫瑰」、「等」、「桂花蒸阿小悲秋」。其中以「紅玫瑰與白玫瑰」最為膾炙人口。\n",
        "\n",
        "> **訓練步驟**\n",
        "\n",
        "深度學習在訓練模型上有以下幾個重要的步驟:\n",
        "1. 讀入相關封包\n",
        "2. 取得資料集 \n",
        "3. 資料前處理\n",
        "4. 建立模型\n",
        "5. 制定訓練計畫\n",
        "6. 評估模型\n",
        "7. 做預測\n",
        "\n",
        "> **本次模型介紹 RNN**\n",
        "\n",
        "![](https://i.imgur.com/FaY50C8.png)\n",
        "\n",
        "\n",
        "我們來看看維度，很多人會搞不懂RNN的維度:\n",
        "\n",
        "一個Seq通過RNN後的維度\n",
        "\n",
        "* Input: (Seq,${originDim}$)\n",
        "* RNN Neuron: 2048\n",
        "* Output: (Seq,2048) if (return_sequence == True) else (1,2048)\n",
        "![](https://i.imgur.com/9SVl6JR.png)\n",
        "\n",
        "![](https://i.imgur.com/z4ElFIr.png)\n",
        "\n",
        "> **把生成問題變成分類問題**\n",
        "\n",
        "![](https://i.imgur.com/TBHKuf6.png)\n"
      ]
    },
    {
      "cell_type": "code",
      "execution_count": 4,
      "metadata": {
        "colab": {
          "base_uri": "https://localhost:8080/"
        },
        "id": "HoKPksUD96Mb",
        "outputId": "8a7912f5-0ce9-45d9-8176-5297f49d2414"
      },
      "outputs": [
        {
          "output_type": "stream",
          "name": "stdout",
          "text": [
            "/usr/local/lib/python3.7/dist-packages/gdown/cli.py:131: FutureWarning: Option `--id` was deprecated in version 4.3.1 and will be removed in 5.0. You don't need to pass it anymore to use a file ID.\n",
            "  category=FutureWarning,\n",
            "Downloading...\n",
            "From: https://drive.google.com/uc?id=15z798g9flzYsYutT-q0Xuema7hknl-19\n",
            "To: /content/HP1.txt\n",
            "100% 462k/462k [00:00<00:00, 116MB/s]\n",
            "/usr/local/lib/python3.7/dist-packages/gdown/cli.py:131: FutureWarning: Option `--id` was deprecated in version 4.3.1 and will be removed in 5.0. You don't need to pass it anymore to use a file ID.\n",
            "  category=FutureWarning,\n",
            "Downloading...\n",
            "From: https://drive.google.com/uc?id=1pPg4wNy_hr_9sgJu6KtA5OdutjGyNkj8\n",
            "To: /content/HP2.txt\n",
            "100% 500k/500k [00:00<00:00, 157MB/s]\n",
            "/usr/local/lib/python3.7/dist-packages/gdown/cli.py:131: FutureWarning: Option `--id` was deprecated in version 4.3.1 and will be removed in 5.0. You don't need to pass it anymore to use a file ID.\n",
            "  category=FutureWarning,\n",
            "Downloading...\n",
            "From: https://drive.google.com/uc?id=1HUfW58ZoDg8GRiGSZ9MID6t8jRlNlJb_\n",
            "To: /content/HP3.txt\n",
            "100% 633k/633k [00:00<00:00, 121MB/s]\n",
            "/usr/local/lib/python3.7/dist-packages/gdown/cli.py:131: FutureWarning: Option `--id` was deprecated in version 4.3.1 and will be removed in 5.0. You don't need to pass it anymore to use a file ID.\n",
            "  category=FutureWarning,\n",
            "Downloading...\n",
            "From: https://drive.google.com/uc?id=1lxVv_FeKxsfNsvrkLUNki9RDjtpRqgUi\n",
            "To: /content/HP4.txt\n",
            "100% 1.11M/1.11M [00:00<00:00, 168MB/s]\n",
            "/usr/local/lib/python3.7/dist-packages/gdown/cli.py:131: FutureWarning: Option `--id` was deprecated in version 4.3.1 and will be removed in 5.0. You don't need to pass it anymore to use a file ID.\n",
            "  category=FutureWarning,\n",
            "Downloading...\n",
            "From: https://drive.google.com/uc?id=1Mof57Fqklov9oLch6d-Du6Tvh364uk31\n",
            "To: /content/HP5.txt\n",
            "100% 1.45M/1.45M [00:00<00:00, 225MB/s]\n",
            "/usr/local/lib/python3.7/dist-packages/gdown/cli.py:131: FutureWarning: Option `--id` was deprecated in version 4.3.1 and will be removed in 5.0. You don't need to pass it anymore to use a file ID.\n",
            "  category=FutureWarning,\n",
            "Downloading...\n",
            "From: https://drive.google.com/uc?id=1WFQfMyCl90UwGCaaYVEGwMCW_w13zYV-\n",
            "To: /content/HP6.txt\n",
            "100% 947k/947k [00:00<00:00, 165MB/s]\n",
            "/usr/local/lib/python3.7/dist-packages/gdown/cli.py:131: FutureWarning: Option `--id` was deprecated in version 4.3.1 and will be removed in 5.0. You don't need to pass it anymore to use a file ID.\n",
            "  category=FutureWarning,\n",
            "Downloading...\n",
            "From: https://drive.google.com/uc?id=1fPdXYecoG-MztMQJp845AbwAhZAWQ_RZ\n",
            "To: /content/HP7.txt\n",
            "100% 1.09M/1.09M [00:00<00:00, 174MB/s]\n"
          ]
        }
      ],
      "source": [
        "# ****************************************\n",
        "# **請勿將本次資料集散播、用於非學術用途**\n",
        "# ****************************************\n",
        "\n",
        "# 執行即代表同意將會合法、合理使用資料集\n",
        "# 太多人同時存取可能會報cannot retrieve file error\n",
        "# 點擊you may still be able to access 下面那個連結再自行上傳檔案即可\n",
        "\n",
        "!gdown --id 15z798g9flzYsYutT-q0Xuema7hknl-19 --output \"./HP1.txt\"\n",
        "!gdown --id 1pPg4wNy_hr_9sgJu6KtA5OdutjGyNkj8 --output \"./HP2.txt\"\n",
        "!gdown --id 1HUfW58ZoDg8GRiGSZ9MID6t8jRlNlJb_ --output \"./HP3.txt\"\n",
        "!gdown --id 1lxVv_FeKxsfNsvrkLUNki9RDjtpRqgUi --output \"./HP4.txt\"\n",
        "!gdown --id 1Mof57Fqklov9oLch6d-Du6Tvh364uk31 --output \"./HP5.txt\"\n",
        "!gdown --id 1WFQfMyCl90UwGCaaYVEGwMCW_w13zYV- --output \"./HP6.txt\"\n",
        "!gdown --id 1fPdXYecoG-MztMQJp845AbwAhZAWQ_RZ --output \"./HP7.txt\"\n",
        "\n"
      ]
    },
    {
      "cell_type": "markdown",
      "metadata": {
        "id": "_aEUrr67TzFb"
      },
      "source": [
        "## 1. 讀入Package"
      ]
    },
    {
      "cell_type": "code",
      "execution_count": 5,
      "metadata": {
        "id": "pPCmAo0Q_G3i"
      },
      "outputs": [],
      "source": [
        "import numpy as np\n",
        "import tensorflow as tf\n",
        "import pandas as pd\n",
        "from tensorflow import keras\n",
        "from tensorflow.keras import layers\n",
        "import os\n",
        "import matplotlib.pyplot as plt"
      ]
    },
    {
      "cell_type": "markdown",
      "metadata": {
        "id": "Y550TvUGT9xv"
      },
      "source": [
        "## 2. 取得資料集"
      ]
    },
    {
      "cell_type": "code",
      "execution_count": 6,
      "metadata": {
        "colab": {
          "base_uri": "https://localhost:8080/"
        },
        "id": "1Mbvzh_9_Tz8",
        "outputId": "fd0d9bc9-54f1-4349-f51b-93c1ecb11072"
      },
      "outputs": [
        {
          "output_type": "stream",
          "name": "stdout",
          "text": [
            "哈利波特全系列共有 2090906 字詞\n",
            "包含了 4141 個獨一無二的字 (含標點符號)\n",
            "\n",
            "第１章 大難不死的男孩\n",
            "家住水蠟樹街四號的德思禮夫婦總是得意地說他們是非常規矩的人家。拜託，拜託了。他們從來跟神秘古怪的事不沾邊，因為他們根本不相信那些邪門歪道。\n",
            "威農德思禮先生在一家名叫格朗寧的公司做主管，公司生產鑽機。他高大魁梧，胖得幾乎連脖子都沒了，卻蓄著一臉大鬍子。德思禮太太是個瘦削的金髮女人。她的脖子幾乎比正常人長一倍。這樣每當她花許多時間隔著籬牆引頸而望、窺探左鄰右舍時，她的長脖子可就派上了大用場。德思禮夫婦有一個小兒子，名叫達力。在他們看來，人世間沒有比達力更好的孩子了。\n",
            "德思禮一家什麼都不缺，但他們擁有一個秘密，他們最害怕的就是這秘密會被人發現。他們想，一旦有人發現波特一家的事，他們會承受不住的。波特太太是德思禮太太的妹妹，不過她們已經有好幾年不見面了。實際上，德思禮太太佯裝自己根本沒有這麼個妹妹，因為她妹妹和她那一無是處的妹夫與德思禮一家的為人處世完全不一樣。一想到鄰居們會說波特夫婦來到了，德思禮夫婦會嚇得膽顫心驚。他們知道波特也有個兒子，只是他們從來沒有見過。這孩子也是他們不與波特夫婦來往的一個很好的藉口，他們不願讓達力跟這種孩子廝混。\n",
            "我們的故事開始於一個晦暗、陰\n"
          ]
        }
      ],
      "source": [
        "# 作業之一就是試試看其他本小說\n",
        "\n",
        "book = \"\"\n",
        "with open(\"./HP1.txt\",\"r\",encoding=\"utf8\") as file:\n",
        "  for line in file:\n",
        "    book += line\n",
        "\n",
        "with open(\"./HP2.txt\",\"r\",encoding=\"utf8\") as file:\n",
        "  for line in file:\n",
        "    book += line\n",
        "\n",
        "with open(\"./HP3.txt\",\"r\",encoding=\"utf8\") as file:\n",
        "  for line in file:\n",
        "    book += line\n",
        "\n",
        "with open(\"./HP4.txt\",\"r\",encoding=\"utf8\") as file:\n",
        "  for line in file:\n",
        "    book += line\n",
        "\n",
        "with open(\"./HP5.txt\",\"r\",encoding=\"utf8\") as file:\n",
        "  for line in file:\n",
        "    book += line\n",
        "\n",
        "with open(\"./HP6.txt\",\"r\",encoding=\"utf8\") as file:\n",
        "  for line in file:\n",
        "    book += line\n",
        "\n",
        "with open(\"./HP7.txt\",\"r\",encoding=\"utf8\") as file:\n",
        "  for line in file:\n",
        "    book += line\n",
        "\n",
        "book_length = len(book)\n",
        "unique_words = set(book)\n",
        "print(f\"哈利波特全系列共有 {book_length} 字詞\")\n",
        "print(f\"包含了 {len(unique_words)} 個獨一無二的字 (含標點符號)\\n\")\n",
        "print(book[0:500])"
      ]
    },
    {
      "cell_type": "markdown",
      "metadata": {
        "id": "Anv0UglDUQk2"
      },
      "source": [
        "## 3. 資料前處理\n",
        "\n",
        "文字前處理有一堆方法、作法:\n",
        "* 切字\n",
        "* 還原\n",
        "* 清除特殊字符\n",
        "* 清除不常見字符 (StopWord)\n",
        "\n",
        "\n",
        "我這裡僅使用去除不常見的字(StopWord)"
      ]
    },
    {
      "cell_type": "code",
      "execution_count": 7,
      "metadata": {
        "id": "tQDQ8hxBEa6d"
      },
      "outputs": [],
      "source": [
        "# 計算字數統計\n",
        "words_count = {}\n",
        "for w in book:\n",
        "  if w in words_count:\n",
        "    words_count[w] += 1\n",
        "  else:\n",
        "    words_count[w] = 1\n",
        "\n",
        "words_count = sorted(words_count.items(),key=lambda x:x[1])"
      ]
    },
    {
      "cell_type": "code",
      "execution_count": 8,
      "metadata": {
        "colab": {
          "base_uri": "https://localhost:8080/"
        },
        "id": "VT90O679Fe0T",
        "outputId": "377ae4ca-a2e0-43ee-b771-ce4940b3066b"
      },
      "outputs": [
        {
          "output_type": "stream",
          "name": "stdout",
          "text": [
            "去除次數小於8的文字剩餘 : 3040\n"
          ]
        }
      ],
      "source": [
        "stop_word = 8\n",
        "unique_words = [w_tup[0] for w_tup in words_count if w_tup[1]>stop_word]\n",
        "print(f\"去除次數小於{stop_word}的文字剩餘 : {len(unique_words)}\")"
      ]
    },
    {
      "cell_type": "code",
      "execution_count": 9,
      "metadata": {
        "colab": {
          "base_uri": "https://localhost:8080/"
        },
        "id": "e_uP5gOVIy2K",
        "outputId": "387e92f8-e67b-4f29-ba05-f14759d92132"
      },
      "outputs": [
        {
          "output_type": "stream",
          "name": "stdout",
          "text": [
            "原本哈利波特全系列共有 2090906 字詞\n",
            "去除不常出現的文字後\n",
            "剩餘2087281個字\n"
          ]
        }
      ],
      "source": [
        "print(f\"原本哈利波特全系列共有 {book_length} 字詞\")\n",
        "print(f\"去除不常出現的文字後\")\n",
        "book = [w for w in book if w in unique_words]\n",
        "print(f\"剩餘{len(book)}個字\")"
      ]
    },
    {
      "cell_type": "code",
      "execution_count": 10,
      "metadata": {
        "colab": {
          "base_uri": "https://localhost:8080/"
        },
        "id": "6LP0BwFDAmcS",
        "outputId": "8f69baee-1de5-4fab-f600-0cd8ab9072bd"
      },
      "outputs": [
        {
          "output_type": "stream",
          "name": "stdout",
          "text": [
            "原始文字 : \n",
            "['第', '章', ' ', '大', '難', '不', '死', '的', '男', '孩', '\\n', '家', '住', '水', '蠟', '樹', '街', '四', '號', '的', '德', '思', '禮', '夫', '婦', '總', '是', '得', '意', '地', '說', '他', '們', '是', '非', '常', '規', '矩', '的', '人']\n",
            "----------------------------------------\n",
            "轉成index : \n",
            "{2434, 2826, 2188, 2703, 1819, 2720, 2467, 1832, 2733, 2735, 2996, 2997, 2616, 571, 2876, 3010, 1864, 3021, 3022, 2896, 3025, 2258, 3029, 3030, 2647, 2903, 2905, 3035, 3036, 3038, 2785, 2668, 2929, 2804, 2806, 2684, 2559}\n"
          ]
        }
      ],
      "source": [
        "# 文字轉數字(index)\n",
        "word_2_index = {word:index for index,word in enumerate(unique_words)}\n",
        "index_2_word = {word_2_index[word]:word for word in word_2_index}\n",
        "\n",
        "book_2_index = [word_2_index[w] for w in book]\n",
        "\n",
        "print(\"原始文字 : \")\n",
        "print(book[:40])\n",
        "print(\"-\"*40)\n",
        "print(\"轉成index : \")\n",
        "print({word_2_index[w] for w in book[:40]})"
      ]
    },
    {
      "cell_type": "code",
      "execution_count": 11,
      "metadata": {
        "id": "H-KDv4kqgxLH"
      },
      "outputs": [],
      "source": [
        "def ind2word_seq(seq):\n",
        "  return [index_2_word[i] for i in seq]"
      ]
    },
    {
      "cell_type": "code",
      "execution_count": 12,
      "metadata": {
        "colab": {
          "base_uri": "https://localhost:8080/"
        },
        "id": "_aDyjJymDmVv",
        "outputId": "8b8e83c0-517b-4d51-fa1e-7fb96ac73380"
      },
      "outputs": [
        {
          "output_type": "stream",
          "name": "stdout",
          "text": [
            "(21,)\n",
            "tf.Tensor(\n",
            "[2806 2434 2467 2996 2684 3030 2876 3038 2668 2647 3035 2905 2896 2785\n",
            " 1864 2616 2258 2703 2188 3038 2735], shape=(21,), dtype=int32)\n",
            "['第', '章', ' ', '大', '難', '不', '死', '的', '男', '孩', '\\n', '家', '住', '水', '蠟', '樹', '街', '四', '號', '的', '德']\n",
            "(21,)\n",
            "tf.Tensor(\n",
            "[2826 2720 2903 1832 2559 3029 2997 2929 3022 3025 3036 3021 3029 2733\n",
            " 2804 1819  571 3038 3010 2905 3037], shape=(21,), dtype=int32)\n",
            "['思', '禮', '夫', '婦', '總', '是', '得', '意', '地', '說', '他', '們', '是', '非', '常', '規', '矩', '的', '人', '家', '。']\n"
          ]
        }
      ],
      "source": [
        "# 設定輸入模型長度\n",
        "seq_len = 20\n",
        "characters = tf.data.Dataset.from_tensor_slices(book_2_index)\n",
        "# characters = characters.map(lambda w:word_2_index[w.item()])\n",
        "\n",
        "sequences = characters.batch(seq_len+1,drop_remainder=True)\n",
        "\n",
        "for seq in sequences.take(2):\n",
        "  print(seq.shape)\n",
        "  print(seq)\n",
        "  print([index_2_word[i] for i in seq.numpy()])"
      ]
    },
    {
      "cell_type": "markdown",
      "metadata": {
        "id": "1-dxqFkd7RU1"
      },
      "source": [
        "![](https://i.imgur.com/YMVMFEJ.png)\n"
      ]
    },
    {
      "cell_type": "code",
      "execution_count": 13,
      "metadata": {
        "colab": {
          "base_uri": "https://localhost:8080/"
        },
        "id": "jhFC16MdLONw",
        "outputId": "166307ad-36a8-4ce4-96fb-3e09e0ad795f"
      },
      "outputs": [
        {
          "output_type": "execute_result",
          "data": {
            "text/plain": [
              "(['T', 'e', 'n', 's', 'o', 'r', 'f', 'l', 'o'],\n",
              " ['e', 'n', 's', 'o', 'r', 'f', 'l', 'o', 'w'])"
            ]
          },
          "metadata": {},
          "execution_count": 13
        }
      ],
      "source": [
        "# 做input、target切割\n",
        "def split_input_target(seq):\n",
        "  input_txt = seq[:-1]\n",
        "  target_txt = seq[1:]\n",
        "  return input_txt,target_txt\n",
        "\n",
        "split_input_target(list(\"Tensorflow\"))"
      ]
    },
    {
      "cell_type": "markdown",
      "metadata": {
        "id": "F-O91DUM_uYV"
      },
      "source": [
        "![](https://i.imgur.com/YoHWLkf.png)\n"
      ]
    },
    {
      "cell_type": "code",
      "execution_count": 14,
      "metadata": {
        "colab": {
          "base_uri": "https://localhost:8080/"
        },
        "id": "qnJ4Bdj2gZ1V",
        "outputId": "89f32d31-c403-496b-bdd5-e1e4cd6c2e3b"
      },
      "outputs": [
        {
          "output_type": "stream",
          "name": "stdout",
          "text": [
            "Input : ['第', '章', ' ', '大', '難', '不', '死', '的', '男', '孩', '\\n', '家', '住', '水', '蠟', '樹', '街', '四', '號', '的']\n",
            "Target: ['章', ' ', '大', '難', '不', '死', '的', '男', '孩', '\\n', '家', '住', '水', '蠟', '樹', '街', '四', '號', '的', '德']\n",
            "--------------------------------------------------\n",
            "Input : [2806 2434 2467 2996 2684 3030 2876 3038 2668 2647 3035 2905 2896 2785\n",
            " 1864 2616 2258 2703 2188 3038]\n",
            "Target: [2434 2467 2996 2684 3030 2876 3038 2668 2647 3035 2905 2896 2785 1864\n",
            " 2616 2258 2703 2188 3038 2735]\n"
          ]
        }
      ],
      "source": [
        "dataset = sequences.map(split_input_target)\n",
        "\n",
        "for input_example,target_exaple in dataset.take(1):\n",
        "  print(\"Input :\", ind2word_seq(input_example.numpy()))\n",
        "  print(\"Target:\", ind2word_seq(target_exaple.numpy()))\n",
        "  print(\"-\"*50)\n",
        "  print(\"Input :\", input_example.numpy())\n",
        "  print(\"Target:\", target_exaple.numpy())"
      ]
    },
    {
      "cell_type": "code",
      "execution_count": 15,
      "metadata": {
        "colab": {
          "base_uri": "https://localhost:8080/"
        },
        "id": "UNivSh2Igr2-",
        "outputId": "c635bb23-19c1-434e-fdb5-100cd55f901a"
      },
      "outputs": [
        {
          "output_type": "execute_result",
          "data": {
            "text/plain": [
              "<BatchDataset element_spec=(TensorSpec(shape=(64, 20), dtype=tf.int32, name=None), TensorSpec(shape=(64, 20), dtype=tf.int32, name=None))>"
            ]
          },
          "metadata": {},
          "execution_count": 15
        }
      ],
      "source": [
        "# 建立資料集\n",
        "# Batch size\n",
        "BATCH_SIZE = 64\n",
        "\n",
        "BUFFER_SIZE = 10000\n",
        "\n",
        "dataset = (\n",
        "    dataset\n",
        "    .shuffle(BUFFER_SIZE)\n",
        "    .batch(BATCH_SIZE, drop_remainder=True))\n",
        "\n",
        "dataset"
      ]
    },
    {
      "cell_type": "markdown",
      "metadata": {
        "id": "xcDWKSbYUWWB"
      },
      "source": [
        "## 4. 建立模型\n",
        "\n",
        "![](https://i.imgur.com/TBHKuf6.png)"
      ]
    },
    {
      "cell_type": "code",
      "execution_count": 16,
      "metadata": {
        "colab": {
          "base_uri": "https://localhost:8080/"
        },
        "id": "UkRcSZAHnxlk",
        "outputId": "25bcffe9-9f5c-4f62-95b1-147cdbc15966"
      },
      "outputs": [
        {
          "output_type": "stream",
          "name": "stdout",
          "text": [
            "Model: \"sequential\"\n",
            "_________________________________________________________________\n",
            " Layer (type)                Output Shape              Param #   \n",
            "=================================================================\n",
            " embedding (Embedding)       (None, None, 512)         1556480   \n",
            "                                                                 \n",
            " lstm (LSTM)                 (None, None, 4096)        75513856  \n",
            "                                                                 \n",
            " lstm_1 (LSTM)               (None, None, 2048)        50339840  \n",
            "                                                                 \n",
            " dense (Dense)               (None, None, 3040)        6228960   \n",
            "                                                                 \n",
            "=================================================================\n",
            "Total params: 133,639,136\n",
            "Trainable params: 133,639,136\n",
            "Non-trainable params: 0\n",
            "_________________________________________________________________\n"
          ]
        }
      ],
      "source": [
        "# 超參數\n",
        "EMBEDDING_DIM = 512\n",
        "\n",
        "# 使用 keras 建立一個非常簡單的 LSTM 模型\n",
        "model = tf.keras.Sequential()\n",
        "\n",
        "model.add(\n",
        "  tf.keras.layers.Embedding(\n",
        "    input_dim=len(unique_words), \n",
        "    output_dim=EMBEDDING_DIM\n",
        "))\n",
        "\n",
        "model.add(\n",
        "  tf.keras.layers.LSTM(\n",
        "    units=4096, \n",
        "    return_sequences=True, \n",
        "))\n",
        "\n",
        "model.add(\n",
        "  tf.keras.layers.LSTM(\n",
        "    units=2048, \n",
        "    return_sequences=True,\n",
        "))\n",
        "  \n",
        "model.add(\n",
        "  tf.keras.layers.Dense(\n",
        "      len(unique_words),activation=\"softmax\"))\n",
        "\n",
        "model.summary()"
      ]
    },
    {
      "cell_type": "code",
      "execution_count": 17,
      "metadata": {
        "colab": {
          "base_uri": "https://localhost:8080/"
        },
        "id": "YKiszF5doFGz",
        "outputId": "718dc1b8-c011-42ca-8fb3-7e987fc3ee15"
      },
      "outputs": [
        {
          "output_type": "stream",
          "name": "stdout",
          "text": [
            "Model input shape : (64, 20)\n",
            "Model output shape : (64, 20, 3040)\n",
            "Model target shape : (64, 20)\n"
          ]
        }
      ],
      "source": [
        "# 查看模型的輸入、輸出 shape\n",
        "for input_example,target_exaple in dataset.take(1):\n",
        "  predict_example = model(input_example)\n",
        "  print(f\"Model input shape : {input_example.shape}\")\n",
        "  print(f\"Model output shape : {predict_example.shape}\")\n",
        "  print(f\"Model target shape : {target_exaple.shape}\")"
      ]
    },
    {
      "cell_type": "code",
      "execution_count": 18,
      "metadata": {
        "colab": {
          "base_uri": "https://localhost:8080/"
        },
        "id": "CsN6Zz4NReV4",
        "outputId": "bf9aca5a-b1a1-4455-c9c3-29dd4eac4d74"
      },
      "outputs": [
        {
          "output_type": "stream",
          "name": "stdout",
          "text": [
            "原本的中文字序列：\n",
            "在他的幾個哥哥面前相形見，所以他看見自己\n",
            "----------------------------------------\n",
            "輸入尚未訓練的model後獲得：\n",
            "\n",
            "凶誹誹搓搓噁哆哆紹部部部部部總總總總城城\n"
          ]
        }
      ],
      "source": [
        "print(\"原本的中文字序列：\")\n",
        "[print(index_2_word[ind],end=\"\") for ind in input_example[0].numpy()]\n",
        "print()\n",
        "print(\"-\"*40)\n",
        "print(\"輸入尚未訓練的model後獲得：\")\n",
        "print()\n",
        "\n",
        "predict_words = tf.math.argmax(predict_example[0],-1)\n",
        "[print(index_2_word[ind],end=\"\") for ind in predict_words.numpy()]\n",
        "print()"
      ]
    },
    {
      "cell_type": "markdown",
      "metadata": {
        "id": "peEbrfDrUfuz"
      },
      "source": [
        "## 5. 制定訓練計畫並訓練\n",
        "\n",
        "* [sparse_categorical_crossentropy](https://www.tensorflow.org/api_docs/python/tf/keras/losses/sparse_categorical_crossentropy) V.S. [categorical_crossentropy](https://www.tensorflow.org/api_docs/python/tf/keras/losses/categorical_crossentropy)\n",
        "\n",
        "```python=\n",
        "# categorical_crossentropy\n",
        "y_true = [[0, 1, 0], [0, 0, 1]]\n",
        "y_pred = [[0.05, 0.95, 0], [0.1, 0.8, 0.1]]\n",
        "assert loss.shape == (2,)\n",
        "\n",
        "# sparse_categorical_crossentropy\n",
        "y_true = [1, 2]\n",
        "y_pred = [[0.05, 0.95, 0], [0.1, 0.8, 0.1]]\n",
        "assert loss.shape == (2,)\n",
        "\n",
        "```\n"
      ]
    },
    {
      "cell_type": "code",
      "execution_count": 19,
      "metadata": {
        "id": "unPfQAQBonFj",
        "colab": {
          "base_uri": "https://localhost:8080/"
        },
        "outputId": "07e17353-5e5d-4942-b65c-bf258b867f7e"
      },
      "outputs": [
        {
          "output_type": "stream",
          "name": "stdout",
          "text": [
            "Collecting tensorflow-addons\n",
            "  Downloading tensorflow_addons-0.16.1-cp37-cp37m-manylinux_2_12_x86_64.manylinux2010_x86_64.whl (1.1 MB)\n",
            "\u001b[K     |████████████████████████████████| 1.1 MB 5.1 MB/s \n",
            "\u001b[?25hRequirement already satisfied: typeguard>=2.7 in /usr/local/lib/python3.7/dist-packages (from tensorflow-addons) (2.7.1)\n",
            "Installing collected packages: tensorflow-addons\n",
            "Successfully installed tensorflow-addons-0.16.1\n"
          ]
        }
      ],
      "source": [
        "!pip install -U tensorflow-addons\n",
        "import tensorflow_addons as tfa\n",
        "from keras import optimizers\n",
        "\n",
        "radam = tfa.optimizers.RectifiedAdam(0.001)\n",
        "ranger = tfa.optimizers.Lookahead(radam,sync_period=6,slow_step_size=0.5)\n",
        "model.compile(loss=\"sparse_categorical_crossentropy\",optimizer=\"adam\")"
      ]
    },
    {
      "cell_type": "code",
      "execution_count": 20,
      "metadata": {
        "colab": {
          "base_uri": "https://localhost:8080/"
        },
        "id": "5IW5xiiMpJhJ",
        "outputId": "d30d5cdb-d33f-4610-d31f-7adc0499e91e"
      },
      "outputs": [
        {
          "output_type": "stream",
          "name": "stdout",
          "text": [
            "Epoch 1/20\n",
            "1553/1553 [==============================] - 254s 161ms/step - loss: 4.4751\n",
            "Epoch 2/20\n",
            "1553/1553 [==============================] - 251s 161ms/step - loss: 3.5201\n",
            "Epoch 3/20\n",
            "1553/1553 [==============================] - 250s 161ms/step - loss: 3.2127\n",
            "Epoch 4/20\n",
            "1553/1553 [==============================] - 250s 161ms/step - loss: 2.9939\n",
            "Epoch 5/20\n",
            "1553/1553 [==============================] - 250s 161ms/step - loss: 2.7881\n",
            "Epoch 6/20\n",
            "1553/1553 [==============================] - 250s 161ms/step - loss: 2.5768\n",
            "Epoch 7/20\n",
            "1553/1553 [==============================] - 250s 161ms/step - loss: 2.3486\n",
            "Epoch 8/20\n",
            "1553/1553 [==============================] - 250s 161ms/step - loss: 2.1054\n",
            "Epoch 9/20\n",
            "1553/1553 [==============================] - 250s 161ms/step - loss: 1.8534\n",
            "Epoch 10/20\n",
            "1553/1553 [==============================] - 250s 161ms/step - loss: 1.6025\n",
            "Epoch 11/20\n",
            "1553/1553 [==============================] - 250s 161ms/step - loss: 1.3674\n",
            "Epoch 12/20\n",
            "1553/1553 [==============================] - 250s 161ms/step - loss: 1.1610\n",
            "Epoch 13/20\n",
            "1553/1553 [==============================] - 250s 161ms/step - loss: 0.9896\n",
            "Epoch 14/20\n",
            "1553/1553 [==============================] - 251s 161ms/step - loss: 0.8550\n",
            "Epoch 15/20\n",
            "1553/1553 [==============================] - 250s 161ms/step - loss: 0.7551\n",
            "Epoch 16/20\n",
            "1553/1553 [==============================] - 250s 161ms/step - loss: 0.6850\n",
            "Epoch 17/20\n",
            "1553/1553 [==============================] - 252s 162ms/step - loss: 0.6327\n",
            "Epoch 18/20\n",
            "1553/1553 [==============================] - 251s 162ms/step - loss: 0.5973\n",
            "Epoch 19/20\n",
            "1553/1553 [==============================] - 251s 161ms/step - loss: 0.5684\n",
            "Epoch 20/20\n",
            "1553/1553 [==============================] - 251s 162ms/step - loss: 0.5467\n"
          ]
        }
      ],
      "source": [
        "EPOCHS = 20\n",
        "history = model.fit(\n",
        "    dataset, # 前面使用 tf.data 建構的資料集\n",
        "    epochs=EPOCHS,\n",
        ")"
      ]
    },
    {
      "cell_type": "markdown",
      "metadata": {
        "id": "J-DD-OibUj64"
      },
      "source": [
        "## 6. 衡量模型"
      ]
    },
    {
      "cell_type": "code",
      "execution_count": 24,
      "metadata": {
        "colab": {
          "base_uri": "https://localhost:8080/",
          "height": 295
        },
        "id": "xxbK80fXpOWD",
        "outputId": "4ddd1bb3-7461-4ac8-dec5-b36a7d00c615"
      },
      "outputs": [
        {
          "output_type": "display_data",
          "data": {
            "text/plain": [
              "<Figure size 432x288 with 1 Axes>"
            ],
            "image/png": "[encoded data removed]"
          },
          "metadata": {
            "needs_background": "light"
          }
        }
      ],
      "source": [
        "plt.plot(history.history['loss'])\n",
        "plt.title('model loss')\n",
        "plt.ylabel('loss')\n",
        "plt.xlabel('epoch')\n",
        "\n",
        "plt.show()"
      ]
    },
    {
      "cell_type": "code",
      "execution_count": 25,
      "metadata": {
        "colab": {
          "base_uri": "https://localhost:8080/"
        },
        "id": "A3elbMNg4z4N",
        "outputId": "9acbf439-352b-43f8-d38b-8e747eef3802"
      },
      "outputs": [
        {
          "output_type": "stream",
          "name": "stdout",
          "text": [
            "原本的中文字序列：\n",
            "事也會引起他們的注意。肯特郡下的那場流星\n",
            "----------------------------------------\n",
            "輸入進訓練後的model後獲得：\n",
            "\n",
            "，會回起他們的注意。他特郡下的那些傳星雨\n"
          ]
        }
      ],
      "source": [
        "after_train_predictions = model(input_example)\n",
        "after_sampled_indices = tf.argmax(after_train_predictions[0],1)\n",
        "\n",
        "print(\"原本的中文字序列：\")\n",
        "[print(index_2_word[ind],end=\"\") for ind in input_example[0].numpy()]\n",
        "print()\n",
        "print(\"-\"*40)\n",
        "print(\"輸入進訓練後的model後獲得：\")\n",
        "print()\n",
        "\n",
        "[print(index_2_word[ind],end=\"\") for ind in after_sampled_indices.numpy()]\n",
        "print()"
      ]
    },
    {
      "cell_type": "markdown",
      "metadata": {
        "id": "v-ZgfcpVUpbc"
      },
      "source": [
        "## 7. 做預測\n",
        "\n",
        "![](https://i.imgur.com/YsOj6Mw.png)\n",
        "\n",
        "在實際生成文字時，我們會想要增加一些隨機性。比如”天天出去” 不加入隨機 “天天天天” 如果我們全部輸出的字都是取softmax最大可能性，則一個訓練完美的model會把整本書給輸出出來。但是我們要的是，希望電腦在最大可能性的幾個字中隨機挑選一個字出來。\n",
        "\n",
        "tf.random.categorical 會根據softmax機率後隨機挑選字，但是我們不希望因為模型很爛導致不合理的字被選中，因此我們會除上一個temperature來增加可能字的比重。\n",
        "\n",
        "EX: \"天天出去\" 預測下一個字\n",
        "1. 玩 : 0.3 \n",
        "2. 天 : 0.1 \n",
        "3. 浪 : 0.4 \n",
        "\n",
        "\"天\"有的機率被印出，我們不希望。所以我們可以在每一個機率除上一個temperature(0.01)\n",
        "1. 玩 : 30 \n",
        "2. 天 : 10 \n",
        "3. 浪 : 40 \n",
        "原本\"浪\"跟\"天\"差0.3，除temperature後差30\n",
        "\n"
      ]
    },
    {
      "cell_type": "code",
      "execution_count": 21,
      "metadata": {
        "id": "b3ryhOIg4-qB"
      },
      "outputs": [],
      "source": [
        "# 預測文字，並把預測文字循環當作下一次的輸入\n",
        "\n",
        "# 設定你的temperature\n",
        "temperature = 0.01\n",
        "\n",
        "def generateWords(input,words=500):\n",
        "  [print(index_2_word[ind],end=\"\") for ind in input]\n",
        "  for i in range(words):\n",
        "    next_input = tf.expand_dims(input,axis=0)\n",
        "    predicts = model(next_input)\n",
        "    predicts = predicts[:,-1,:]\n",
        "    predicts /= temperature\n",
        "    result = tf.random.categorical(\n",
        "        predicts,num_samples=1\n",
        "    )\n",
        "    chinese_ind = tf.squeeze(result).numpy()\n",
        "    print(index_2_word[chinese_ind],end=\"\")\n",
        "    input = input+[chinese_ind]\n",
        "    input = input[-seq_len:]"
      ]
    },
    {
      "cell_type": "markdown",
      "metadata": {
        "id": "i-_4vCX4e3ZA"
      },
      "source": [
        "## 作業2.1 (30%)\n",
        "\n",
        "使用[爬蟲程式](https://colab.research.google.com/drive/1f_HvQEvgkJPFc473TlA-I_3EmkThA2SR?usp=sharing)來取得一個新的文本資料集，或是不管你從哪裡取得的資料集也可以(不要再張愛玲了，不限中英文)。然後丟入這個模型來看看AI生成文字的成果，將**結果**與**你的心得**(不是機器產生的心得)，貼上pdf。\n",
        "\n",
        "請隨意修改本colab的模型與參數來達到更好的結果。\n",
        "\n",
        "資料集越有趣越好，比如你可以去爬PTT文章來製作廢文產生器。去爬Dcard製作幻想文產生器。"
      ]
    },
    {
      "cell_type": "code",
      "execution_count": 25,
      "metadata": {
        "colab": {
          "base_uri": "https://localhost:8080/"
        },
        "id": "l7ELuAjW3rKW",
        "outputId": "65fa017a-4b0c-4c74-9c38-cff6c132063d"
      },
      "outputs": [
        {
          "output_type": "stream",
          "name": "stdout",
          "text": [
            "葛林戴華德是同志嗎？」\n",
            "「當然，當然。」哈利說，想到了榮恩和妙麗，他自己和榮恩一起進了公共休息室。這裡所有的東西都由著他的頭，跟他哥哥的一樣蒼白。哈利不管在哪裡找到了這個地方，他自己也在一夜。」\n",
            "「我們必須返回他們的注意，」鄧不利多說，「不然我為什麼要找格里戈維奇。」\n",
            "「哦，是嗎？」阿不福思粗聲粗氣地問，「為什麼？」\n",
            "「我認為是你，」哈利說，「但我必須救點不許她分靈體，並救你們的信任，你必須知道。」\n",
            "「我？」\n",
            "「我想，他大概認為，魔法部的巫師來說，這是一本書的關心。」\n",
            "「你的魔杖在這兒，就在我們要面前，你就能——不著——」\n",
            "「不，」哈利堅決地說，「你必須等著，我們不會回去，去尋找佛地魔的，並遺憾地告訴我們，你是惟一能把他無意為麻瓜的法律的！」\n",
            "「鄧不利多！」哈利忍著笑向聲音發了一個燦爛的笑容。\n",
            "「你覺得這是個好主意，」哈利說道，「是個更優秀的巫師，更優秀的男子漢兒了……不可否認為哈利的內心在禁忌森林裡發生了什麼事，接著問道：「你能否認嗎？」\n",
            "「我認為不會把你算我的，哈利，」鄧不利多說，「所以，他只是感到很糟糕，可現實不過是個傲慢的光，此刻正聚在那一幕。\n",
            "「哈利，我想你不會去找那個房子吧，」花兒一邊幫比爾把枕頭塞進了哈利手裡，「她是史萊哲林的。」\n",
            "「他們會毀掉你，」榮恩一邊說，一邊順著梯子繼續給他們倆上樓，海格仰倒在他身邊。哈利把隱形斗篷緊緊裹在身上，看見馬份急切地、高爾平大的臉上洋溢著撕扯他的模樣。哈利確信龐芮夫人不在，她根本沒有想過兩個聽。他們三人在門口偵察一個不愉快的時候，在他們發現的秘密上訴巫師傳給巫師，那會不會是標準的：一旦進來了，一定是坐著沒有隱形的地方。哈利和妙麗瞪著他，臉上的笑容漸漸消失。\n",
            "「這不是偷，對嗎，露娜？」金妮問。\n",
            "「我們知道他在設法堵住了他，」哈利說，「我們也想盡自己的一份，」她朝贊諾皺著眉頭說，「你以為我知道自己在幹什麼……我們以為鄧不利多教授可以借給我們的東西，就是不相信他能力以為佛地魔會在殺戮咒上繼承來為什麼留現時，哈利的傷疤在傍晚的窗戶外停住了他，他滿臉困惑地盯著鄧不利多，而鄧不利多的臉一下子清晰地往後退去。\n",
            "「我只是試著猜一下萬應室，」榮恩說，「一直在仔細聽我們。」\n",
            "「什麼？」榮恩和妙麗一起問，聲音都啞了，「你媽媽要是那麼做的？」\n",
            "「不，應該不是，先生。我是麻瓜出身。」\n",
            "「赫－米－恩的記文，是嗎？」\n",
            "「是的。」哈利說。\n",
            "「不，不是，」金妮說著，聲音哽嚥了，「會開完了。」\n",
            "「好啊，但你待在這兒。」\n",
            "「你沒有魔杖——？」衛斯理先生問。\n",
            "「他們沒有聽見我的話嗎，波特？」念召喚咒的人大聲說，「怎麼樣，赫瑞司？」\n",
            "「哈利，我想我們該回去了，」路平說，「可是，你必須毫無其事地做一些事情。」\n",
            "「他已經在那裡了。」哈利說。\n",
            "「他們說他的名字就會說什麼，」榮恩最後說道，「如果你的魔藥課O．W．L．E．W．Ts課程，我們上節課交通堵塞，一旦密切注視著。」\n",
            "「說句實話，我認為這是關鍵的。」哈利說，「而且你要走了，快點兒給我幫著不祥的事，」穆敵氣憤地說，「你會跟他說的事實的呢？他說得對，天狼星肯定想當然地以為，他是自己報道的每一個字，最多那些巫師不可能死亡，當然，他是有觸覺的——」\n",
            "「它不會是石內卜的，」哈利說，「但我非做不可——」\n",
            "「『非做什麼咒語？」泰德馬上問，「什麼時候？」\n",
            "「它還封得很好，」穆敵說著對哈利咧嘴一笑，「非尼呀·耐吉會闖進去了？」\n",
            "「不要，不要，不要，不要，不要你這麼做，不是嗎？」\n",
            "「是的，」鄧不利多說，「佛地魔肯定會免她一死吧？」\n",
            "「我當然有，」榮恩說，一邊檢查著撕壞的牛奶大紙，「妙麗，如果你願意把我的話留到哪兒呢，你可以打賭——」\n",
            "「他當時在幾百米的高級人裡面超走了一個星期。我把阿不思·鄧不利多弄死了，就連天狼星也會逃出這個地方了。\n",
            "「哈利？」\n",
            "他掃視了一圈，發現哈利站在那兒，嘴唇蠕動著，好像沒有人能聽到任何聲音。他轉向哈利：「德達洛。\n",
            "「去去，武器走！」\n",
            "妙麗帶著他的生命在震動，他的心跳加快，像憤怒的樣子一樣感到刺痛。他站在那兒，呼哧呼哧喘著氣，渾身發抖。\n",
            "「我在新書館裡見過！」哈利叫道，可是怎麼也沒有說，只是又轉過身去看妙麗。他抬起頭看著她，只見她一邊踱步一邊仍然用那個不顧頭腦球表示它們。\n",
            "「好了，」麥教授說道，聲音顫抖著，好像被他所做的嚇人打破了似的，「我不知道是不是合法要做的！」\n",
            "「你做得很好，」穆敵說，「難道你已經知道飛賊裡藏著什麼危險？知不知道你並沒有什麼可笑的，我認為特裡勞妮教授給了他們一些中間，然後連根本沒有什麼風。哈利也舉起了魔杖。\n",
            "「你覺得很好玩，是嗎？」\n",
            "「哦，是的，」鄧不利多說，「如果你不能幫忙，我們就等一等。」\n",
            "他把紙包扔到榮恩床上，落到了自己的床上，就好像他希望有人陪他埋葬了。他從未體驗過那樣的痛苦。他現在必須在這座城堡周圍的警告團放慢慢地，他總覺得往鄧不利多的墳墓裡冒了幾百不夠—"
          ]
        }
      ],
      "source": [
        "init_seq = \"葛林戴華德是同志嗎\"\n",
        "init_seq_ind = [word_2_index[w] for w in init_seq]\n",
        "input = init_seq_ind[-seq_len:]\n",
        "\n",
        "generateWords(input,2000)"
      ]
    }
  ],
  "metadata": {
    "accelerator": "GPU",
    "colab": {
      "collapsed_sections": [],
      "machine_shape": "hm",
      "name": "TextGeneration-109403524.ipynb",
      "provenance": []
    },
    "kernelspec": {
      "display_name": "Python 3",
      "name": "python3"
    }
  },
  "nbformat": 4,
  "nbformat_minor": 0
}